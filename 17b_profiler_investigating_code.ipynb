{
  "cells": [
    {
      "cell_type": "markdown",
      "metadata": {
        "id": "view-in-github",
        "colab_type": "text"
      },
      "source": [
        "<a href=\"https://colab.research.google.com/github/bhattacharya5/DLOps/blob/main/17b_profiler_investigating_code.ipynb\" target=\"_parent\"><img src=\"https://colab.research.google.com/assets/colab-badge.svg\" alt=\"Open In Colab\"/></a>"
      ]
    },
    {
      "cell_type": "code",
      "execution_count": null,
      "metadata": {
        "id": "3hEnPx5-Mt_y"
      },
      "outputs": [],
      "source": [
        "# For tips on running notebooks in Google Colab, see\n",
        "# https://pytorch.org/tutorials/beginner/colab\n",
        "%matplotlib inline"
      ]
    },
    {
      "cell_type": "markdown",
      "metadata": {
        "id": "ouJP2fhKMt_z"
      },
      "source": [
        "Profiling your PyTorch Module\n",
        "=============================\n",
        "\n",
        "**Author:** [Suraj Subramanian](https://github.com/suraj813)\n",
        "\n",
        "PyTorch includes a profiler API that is useful to identify the time and\n",
        "memory costs of various PyTorch operations in your code. Profiler can be\n",
        "easily integrated in your code, and the results can be printed as a\n",
        "table or returned in a JSON trace file.\n",
        "\n",
        "<div style=\"background-color: #54c7ec; color: #fff; font-weight: 700; padding-left: 10px; padding-top: 5px; padding-bottom: 5px\"><strong>NOTE:</strong></div>\n",
        "<div style=\"background-color: #f3f4f7; padding-left: 10px; padding-top: 10px; padding-bottom: 10px; padding-right: 10px\">\n",
        "<p>Profiler supports multithreaded models. Profiler runs in thesame thread as the operation but it will also profile child operatorsthat might run in another thread. Concurrently-running profilers will bescoped to their own thread to prevent mixing of results.</p>\n",
        "</div>\n",
        "<div style=\"background-color: #54c7ec; color: #fff; font-weight: 700; padding-left: 10px; padding-top: 5px; padding-bottom: 5px\"><strong>NOTE:</strong></div>\n",
        "<div style=\"background-color: #f3f4f7; padding-left: 10px; padding-top: 10px; padding-bottom: 10px; padding-right: 10px\">\n",
        "<p>PyTorch 1.8 introduces the new API that will replace the older profiler APIin the future releases. Check the new API at <a href=\"https://pytorch.org/docs/master/profiler.html\">this page</a>.</p>\n",
        "</div>\n",
        "\n",
        "Head on over to [this\n",
        "recipe](https://pytorch.org/tutorials/recipes/recipes/profiler_recipe.html)\n",
        "for a quicker walkthrough of Profiler API usage.\n",
        "\n",
        "------------------------------------------------------------------------\n"
      ]
    },
    {
      "cell_type": "code",
      "execution_count": null,
      "metadata": {
        "id": "3QhLDnDKMt_1"
      },
      "outputs": [],
      "source": [
        "import torch\n",
        "import numpy as np\n",
        "from torch import nn\n",
        "import torch.autograd.profiler as profiler"
      ]
    },
    {
      "cell_type": "markdown",
      "metadata": {
        "id": "QBOcSMf5Mt_1"
      },
      "source": [
        "Performance debugging using Profiler\n",
        "====================================\n",
        "\n",
        "Profiler can be useful to identify performance bottlenecks in your\n",
        "models. In this example, we build a custom module that performs two\n",
        "sub-tasks:\n",
        "\n",
        "-   a linear transformation on the input, and\n",
        "-   use the transformation result to get indices on a mask tensor.\n",
        "\n",
        "We wrap the code for each sub-task in separate labelled context managers\n",
        "using `profiler.record_function(\"label\")`. In the profiler output, the\n",
        "aggregate performance metrics of all operations in the sub-task will\n",
        "show up under its corresponding label.\n",
        "\n",
        "Note that using Profiler incurs some overhead, and is best used only for\n",
        "investigating code. Remember to remove it if you are benchmarking\n",
        "runtimes.\n"
      ]
    },
    {
      "cell_type": "code",
      "execution_count": null,
      "metadata": {
        "id": "UOPPw19JMt_1"
      },
      "outputs": [],
      "source": [
        "class MyModule(nn.Module):\n",
        "    def __init__(self, in_features: int, out_features: int, bias: bool = True):\n",
        "        super(MyModule, self).__init__()\n",
        "        self.linear = nn.Linear(in_features, out_features, bias)\n",
        "\n",
        "    def forward(self, input, mask):\n",
        "        with profiler.record_function(\"LINEAR PASS\"):\n",
        "            out = self.linear(input)\n",
        "\n",
        "        with profiler.record_function(\"MASK INDICES\"):\n",
        "            threshold = out.sum(axis=1).mean().item()\n",
        "            hi_idx = np.argwhere(mask.cpu().numpy() > threshold)\n",
        "            hi_idx = torch.from_numpy(hi_idx).cuda()\n",
        "\n",
        "        return out, hi_idx"
      ]
    },
    {
      "cell_type": "markdown",
      "metadata": {
        "id": "MLOq9wmPMt_2"
      },
      "source": [
        "Profile the forward pass\n",
        "========================\n",
        "\n",
        "We initialize random input and mask tensors, and the model.\n",
        "\n",
        "Before we run the profiler, we warm-up CUDA to ensure accurate\n",
        "performance benchmarking. We wrap the forward pass of our module in the\n",
        "`profiler.profile` context manager. The `with_stack=True` parameter\n",
        "appends the file and line number of the operation in the trace.\n",
        "\n",
        "<div style=\"background-color: #e94f3b; color: #fff; font-weight: 700; padding-left: 10px; padding-top: 5px; padding-bottom: 5px\"><strong>WARNING:</strong></div>\n",
        "<div style=\"background-color: #f3f4f7; padding-left: 10px; padding-top: 10px; padding-bottom: 10px; padding-right: 10px\">\n",
        "<p><code>with_stack=True</code> incurs an additional overhead, and is better suited for investigating code.Remember to remove it if you are benchmarking performance.</p>\n",
        "</div>\n"
      ]
    },
    {
      "cell_type": "code",
      "execution_count": null,
      "metadata": {
        "id": "f4HGoo_lMt_2"
      },
      "outputs": [],
      "source": [
        "model = MyModule(500, 10).cuda()\n",
        "input = torch.rand(128, 500).cuda()\n",
        "mask = torch.rand((500, 500, 500), dtype=torch.double).cuda()\n",
        "\n",
        "# warm-up\n",
        "model(input, mask)\n",
        "\n",
        "with profiler.profile(with_stack=True, profile_memory=True) as prof:\n",
        "    out, idx = model(input, mask)"
      ]
    },
    {
      "cell_type": "markdown",
      "metadata": {
        "id": "l80pH2oDMt_2"
      },
      "source": [
        "Print profiler results\n",
        "======================\n",
        "\n",
        "Finally, we print the profiler results. `profiler.key_averages`\n",
        "aggregates the results by operator name, and optionally by input shapes\n",
        "and/or stack trace events. Grouping by input shapes is useful to\n",
        "identify which tensor shapes are utilized by the model.\n",
        "\n",
        "Here, we use `group_by_stack_n=5` which aggregates runtimes by the\n",
        "operation and its traceback (truncated to the most recent 5 events), and\n",
        "display the events in the order they are registered. The table can also\n",
        "be sorted by passing a `sort_by` argument (refer to the\n",
        "[docs](https://pytorch.org/docs/stable/autograd.html#profiler) for valid\n",
        "sorting keys).\n",
        "\n",
        "<div style=\"background-color: #54c7ec; color: #fff; font-weight: 700; padding-left: 10px; padding-top: 5px; padding-bottom: 5px\"><strong>NOTE:</strong></div>\n",
        "<div style=\"background-color: #f3f4f7; padding-left: 10px; padding-top: 10px; padding-bottom: 10px; padding-right: 10px\">\n",
        "<p>When running profiler in a notebook, you might see entries like <code>&lt;ipython-input-18-193a910735e8&gt;(13): forward</code>instead of filenames in the stacktrace. These correspond to <code>&lt;notebook-cell&gt;(line number): calling-function</code>.</p>\n",
        "</div>\n"
      ]
    },
    {
      "cell_type": "code",
      "execution_count": null,
      "metadata": {
        "id": "o4tyLJpSMt_3",
        "colab": {
          "base_uri": "https://localhost:8080/",
          "height": 356
        },
        "outputId": "bf4567f0-b2f1-4f40-83b5-7b742917bd0f"
      },
      "outputs": [
        {
          "output_type": "stream",
          "name": "stdout",
          "text": [
            "-------------------------------------------------  ------------  ------------  ------------  ------------  ------------  ------------  ------------  ------------  ------------  ------------  \n",
            "                                             Name    Self CPU %      Self CPU   CPU total %     CPU total  CPU time avg       CPU Mem  Self CPU Mem      CUDA Mem  Self CUDA Mem    # of Calls  \n",
            "-------------------------------------------------  ------------  ------------  ------------  ------------  ------------  ------------  ------------  ------------  ------------  ------------  \n",
            "                                     MASK INDICES        69.16%        3.419s        99.85%        4.936s        4.936s           0 b    -953.67 Mb       2.79 Gb      -1.00 Kb             1  \n",
            "                                  cudaMemcpyAsync        30.68%        1.517s        30.68%        1.517s     505.541ms           0 b           0 b           0 b           0 b             3  \n",
            "                                      aten::addmm         0.06%       3.164ms         0.08%       4.115ms       4.115ms           0 b           0 b       5.00 Kb       5.00 Kb             1  \n",
            "                                      LINEAR PASS         0.04%       1.735ms         0.15%       7.477ms       7.477ms           0 b           0 b       5.00 Kb           0 b             1  \n",
            "                                     aten::linear         0.03%       1.534ms         0.12%       5.742ms       5.742ms           0 b           0 b       5.00 Kb           0 b             1  \n",
            "-------------------------------------------------  ------------  ------------  ------------  ------------  ------------  ------------  ------------  ------------  ------------  ------------  \n",
            "Self CPU time total: 4.944s\n",
            "\n"
          ]
        },
        {
          "output_type": "execute_result",
          "data": {
            "text/plain": [
              "'\\n(Some columns are omitted)\\n\\n-------------  ------------  ------------  ------------  ---------------------------------\\n         Name    Self CPU %      Self CPU  Self CPU Mem   Source Location\\n-------------  ------------  ------------  ------------  ---------------------------------\\n MASK INDICES        87.88%        5.212s    -953.67 Mb  /mnt/xarfuse/.../torch/au\\n                                                         <ipython-input-...>(10): forward\\n                                                         /mnt/xarfuse/.../torch/nn\\n                                                         <ipython-input-...>(9): <module>\\n                                                         /mnt/xarfuse/.../IPython/\\n\\n  aten::copy_        12.07%     715.848ms           0 b  <ipython-input-...>(12): forward\\n                                                         /mnt/xarfuse/.../torch/nn\\n                                                         <ipython-input-...>(9): <module>\\n                                                         /mnt/xarfuse/.../IPython/\\n                                                         /mnt/xarfuse/.../IPython/\\n\\n  LINEAR PASS         0.01%     350.151us         -20 b  /mnt/xarfuse/.../torch/au\\n                                                         <ipython-input-...>(7): forward\\n                                                         /mnt/xarfuse/.../torch/nn\\n                                                         <ipython-input-...>(9): <module>\\n                                                         /mnt/xarfuse/.../IPython/\\n\\n  aten::addmm         0.00%     293.342us           0 b  /mnt/xarfuse/.../torch/nn\\n                                                         /mnt/xarfuse/.../torch/nn\\n                                                         /mnt/xarfuse/.../torch/nn\\n                                                         <ipython-input-...>(8): forward\\n                                                         /mnt/xarfuse/.../torch/nn\\n\\n   aten::mean         0.00%     235.095us           0 b  <ipython-input-...>(11): forward\\n                                                         /mnt/xarfuse/.../torch/nn\\n                                                         <ipython-input-...>(9): <module>\\n                                                         /mnt/xarfuse/.../IPython/\\n                                                         /mnt/xarfuse/.../IPython/\\n\\n-----------------------------  ------------  ---------- ----------------------------------\\nSelf CPU time total: 5.931s\\n\\n'"
            ],
            "application/vnd.google.colaboratory.intrinsic+json": {
              "type": "string"
            }
          },
          "metadata": {},
          "execution_count": 5
        }
      ],
      "source": [
        "print(prof.key_averages(group_by_stack_n=5).table(sort_by='self_cpu_time_total', row_limit=5))\n",
        "\n",
        "\"\"\"\n",
        "(Some columns are omitted)\n",
        "\n",
        "-------------  ------------  ------------  ------------  ---------------------------------\n",
        "         Name    Self CPU %      Self CPU  Self CPU Mem   Source Location\n",
        "-------------  ------------  ------------  ------------  ---------------------------------\n",
        " MASK INDICES        87.88%        5.212s    -953.67 Mb  /mnt/xarfuse/.../torch/au\n",
        "                                                         <ipython-input-...>(10): forward\n",
        "                                                         /mnt/xarfuse/.../torch/nn\n",
        "                                                         <ipython-input-...>(9): <module>\n",
        "                                                         /mnt/xarfuse/.../IPython/\n",
        "\n",
        "  aten::copy_        12.07%     715.848ms           0 b  <ipython-input-...>(12): forward\n",
        "                                                         /mnt/xarfuse/.../torch/nn\n",
        "                                                         <ipython-input-...>(9): <module>\n",
        "                                                         /mnt/xarfuse/.../IPython/\n",
        "                                                         /mnt/xarfuse/.../IPython/\n",
        "\n",
        "  LINEAR PASS         0.01%     350.151us         -20 b  /mnt/xarfuse/.../torch/au\n",
        "                                                         <ipython-input-...>(7): forward\n",
        "                                                         /mnt/xarfuse/.../torch/nn\n",
        "                                                         <ipython-input-...>(9): <module>\n",
        "                                                         /mnt/xarfuse/.../IPython/\n",
        "\n",
        "  aten::addmm         0.00%     293.342us           0 b  /mnt/xarfuse/.../torch/nn\n",
        "                                                         /mnt/xarfuse/.../torch/nn\n",
        "                                                         /mnt/xarfuse/.../torch/nn\n",
        "                                                         <ipython-input-...>(8): forward\n",
        "                                                         /mnt/xarfuse/.../torch/nn\n",
        "\n",
        "   aten::mean         0.00%     235.095us           0 b  <ipython-input-...>(11): forward\n",
        "                                                         /mnt/xarfuse/.../torch/nn\n",
        "                                                         <ipython-input-...>(9): <module>\n",
        "                                                         /mnt/xarfuse/.../IPython/\n",
        "                                                         /mnt/xarfuse/.../IPython/\n",
        "\n",
        "-----------------------------  ------------  ---------- ----------------------------------\n",
        "Self CPU time total: 5.931s\n",
        "\n",
        "\"\"\""
      ]
    },
    {
      "cell_type": "markdown",
      "metadata": {
        "id": "DlC6x6BCMt_4"
      },
      "source": [
        "Improve memory performance\n",
        "==========================\n",
        "\n",
        "Note that the most expensive operations - in terms of memory and time\n",
        "-are at `forward (10)` representing the operations within MASK INDICES.\n",
        "Let's try to tackle the memory consumption first. We can see that the\n",
        "`.to()` operation at line 12 consumes 953.67 Mb. This operation copies\n",
        "`mask` to the CPU. `mask` is initialized with a `torch.double` datatype.\n",
        "Can we reduce the memory footprint by casting it to `torch.float`\n",
        "instead?\n"
      ]
    },
    {
      "cell_type": "code",
      "execution_count": null,
      "metadata": {
        "id": "kQ-FrClvMt_5",
        "colab": {
          "base_uri": "https://localhost:8080/",
          "height": 356
        },
        "outputId": "ab248034-43b6-415c-fe57-ecbb71144d80"
      },
      "outputs": [
        {
          "output_type": "stream",
          "name": "stdout",
          "text": [
            "-------------------------------------------------  ------------  ------------  ------------  ------------  ------------  ------------  ------------  ------------  ------------  ------------  \n",
            "                                             Name    Self CPU %      Self CPU   CPU total %     CPU total  CPU time avg       CPU Mem  Self CPU Mem      CUDA Mem  Self CUDA Mem    # of Calls  \n",
            "-------------------------------------------------  ------------  ------------  ------------  ------------  ------------  ------------  ------------  ------------  ------------  ------------  \n",
            "                                     MASK INDICES        74.64%        1.983s        99.86%        2.653s        2.653s           0 b    -476.84 Mb       1.13 Gb      -1.00 Kb             1  \n",
            "                                  cudaMemcpyAsync        25.20%     669.693ms        25.20%     669.693ms     223.231ms           0 b           0 b           0 b           0 b             3  \n",
            "                                      aten::addmm         0.12%       3.304ms         0.13%       3.353ms       3.353ms           0 b           0 b       5.00 Kb       5.00 Kb             1  \n",
            "                                      LINEAR PASS         0.01%     197.000us         0.14%       3.609ms       3.609ms           0 b           0 b       5.00 Kb           0 b             1  \n",
            "                                      aten::copy_         0.00%     122.000us        25.21%     669.860ms     334.930ms           0 b           0 b           0 b           0 b             2  \n",
            "-------------------------------------------------  ------------  ------------  ------------  ------------  ------------  ------------  ------------  ------------  ------------  ------------  \n",
            "Self CPU time total: 2.657s\n",
            "\n"
          ]
        },
        {
          "output_type": "execute_result",
          "data": {
            "text/plain": [
              "'\\n(Some columns are omitted)\\n\\n-----------------  ------------  ------------  ------------  --------------------------------\\n             Name    Self CPU %      Self CPU  Self CPU Mem   Source Location\\n-----------------  ------------  ------------  ------------  --------------------------------\\n     MASK INDICES        93.61%        5.006s    -476.84 Mb  /mnt/xarfuse/.../torch/au\\n                                                             <ipython-input-...>(10): forward\\n                                                             /mnt/xarfuse/  /torch/nn\\n                                                             <ipython-input-...>(9): <module>\\n                                                             /mnt/xarfuse/.../IPython/\\n\\n      aten::copy_         6.34%     338.759ms           0 b  <ipython-input-...>(12): forward\\n                                                             /mnt/xarfuse/.../torch/nn\\n                                                             <ipython-input-...>(9): <module>\\n                                                             /mnt/xarfuse/.../IPython/\\n                                                             /mnt/xarfuse/.../IPython/\\n\\n aten::as_strided         0.01%     281.808us           0 b  <ipython-input-...>(11): forward\\n                                                             /mnt/xarfuse/.../torch/nn\\n                                                             <ipython-input-...>(9): <module>\\n                                                             /mnt/xarfuse/.../IPython/\\n                                                             /mnt/xarfuse/.../IPython/\\n\\n      aten::addmm         0.01%     275.721us           0 b  /mnt/xarfuse/.../torch/nn\\n                                                             /mnt/xarfuse/.../torch/nn\\n                                                             /mnt/xarfuse/.../torch/nn\\n                                                             <ipython-input-...>(8): forward\\n                                                             /mnt/xarfuse/.../torch/nn\\n\\n      aten::_local        0.01%     268.650us           0 b  <ipython-input-...>(11): forward\\n      _scalar_dense                                          /mnt/xarfuse/.../torch/nn\\n                                                             <ipython-input-...>(9): <module>\\n                                                             /mnt/xarfuse/.../IPython/\\n                                                             /mnt/xarfuse/.../IPython/\\n\\n-----------------  ------------  ------------  ------------  --------------------------------\\nSelf CPU time total: 5.347s\\n\\n'"
            ],
            "application/vnd.google.colaboratory.intrinsic+json": {
              "type": "string"
            }
          },
          "metadata": {},
          "execution_count": 6
        }
      ],
      "source": [
        "model = MyModule(500, 10).cuda()\n",
        "input = torch.rand(128, 500).cuda()\n",
        "mask = torch.rand((500, 500, 500), dtype=torch.float).cuda()\n",
        "\n",
        "# warm-up\n",
        "model(input, mask)\n",
        "\n",
        "with profiler.profile(with_stack=True, profile_memory=True) as prof:\n",
        "    out, idx = model(input, mask)\n",
        "\n",
        "print(prof.key_averages(group_by_stack_n=5).table(sort_by='self_cpu_time_total', row_limit=5))\n",
        "\n",
        "\"\"\"\n",
        "(Some columns are omitted)\n",
        "\n",
        "-----------------  ------------  ------------  ------------  --------------------------------\n",
        "             Name    Self CPU %      Self CPU  Self CPU Mem   Source Location\n",
        "-----------------  ------------  ------------  ------------  --------------------------------\n",
        "     MASK INDICES        93.61%        5.006s    -476.84 Mb  /mnt/xarfuse/.../torch/au\n",
        "                                                             <ipython-input-...>(10): forward\n",
        "                                                             /mnt/xarfuse/  /torch/nn\n",
        "                                                             <ipython-input-...>(9): <module>\n",
        "                                                             /mnt/xarfuse/.../IPython/\n",
        "\n",
        "      aten::copy_         6.34%     338.759ms           0 b  <ipython-input-...>(12): forward\n",
        "                                                             /mnt/xarfuse/.../torch/nn\n",
        "                                                             <ipython-input-...>(9): <module>\n",
        "                                                             /mnt/xarfuse/.../IPython/\n",
        "                                                             /mnt/xarfuse/.../IPython/\n",
        "\n",
        " aten::as_strided         0.01%     281.808us           0 b  <ipython-input-...>(11): forward\n",
        "                                                             /mnt/xarfuse/.../torch/nn\n",
        "                                                             <ipython-input-...>(9): <module>\n",
        "                                                             /mnt/xarfuse/.../IPython/\n",
        "                                                             /mnt/xarfuse/.../IPython/\n",
        "\n",
        "      aten::addmm         0.01%     275.721us           0 b  /mnt/xarfuse/.../torch/nn\n",
        "                                                             /mnt/xarfuse/.../torch/nn\n",
        "                                                             /mnt/xarfuse/.../torch/nn\n",
        "                                                             <ipython-input-...>(8): forward\n",
        "                                                             /mnt/xarfuse/.../torch/nn\n",
        "\n",
        "      aten::_local        0.01%     268.650us           0 b  <ipython-input-...>(11): forward\n",
        "      _scalar_dense                                          /mnt/xarfuse/.../torch/nn\n",
        "                                                             <ipython-input-...>(9): <module>\n",
        "                                                             /mnt/xarfuse/.../IPython/\n",
        "                                                             /mnt/xarfuse/.../IPython/\n",
        "\n",
        "-----------------  ------------  ------------  ------------  --------------------------------\n",
        "Self CPU time total: 5.347s\n",
        "\n",
        "\"\"\""
      ]
    },
    {
      "cell_type": "markdown",
      "metadata": {
        "id": "2c_wvBjTMt_5"
      },
      "source": [
        "The CPU memory footprint for this operation has halved.\n",
        "\n",
        "Improve time performance\n",
        "========================\n",
        "\n",
        "While the time consumed has also reduced a bit, it's still too high.\n",
        "Turns out copying a matrix from CUDA to CPU is pretty expensive! The\n",
        "`aten::copy_` operator in `forward (12)` copies `mask` to CPU so that it\n",
        "can use the NumPy `argwhere` function. `aten::copy_` at `forward(13)`\n",
        "copies the array back to CUDA as a tensor. We could eliminate both of\n",
        "these if we use a `torch` function `nonzero()` here instead.\n"
      ]
    },
    {
      "cell_type": "code",
      "execution_count": null,
      "metadata": {
        "id": "gfLiJsdGMt_5",
        "colab": {
          "base_uri": "https://localhost:8080/",
          "height": 356
        },
        "outputId": "e570e34b-72c7-40ec-ae86-f4a67b6940ef"
      },
      "outputs": [
        {
          "output_type": "stream",
          "name": "stdout",
          "text": [
            "-------------------------------------------------------  ------------  ------------  ------------  ------------  ------------  ------------  ------------  ------------  ------------  ------------  \n",
            "                                                   Name    Self CPU %      Self CPU   CPU total %     CPU total  CPU time avg       CPU Mem  Self CPU Mem      CUDA Mem  Self CUDA Mem    # of Calls  \n",
            "-------------------------------------------------------  ------------  ------------  ------------  ------------  ------------  ------------  ------------  ------------  ------------  ------------  \n",
            "                                        cudaMemcpyAsync        74.10%      24.948ms        74.10%      24.948ms      24.948ms           0 b           0 b           0 b           0 b             1  \n",
            "                                            aten::addmm         9.60%       3.234ms         9.69%       3.262ms       3.262ms           0 b           0 b       5.00 Kb       5.00 Kb             1  \n",
            "                                          aten::nonzero         7.34%       2.471ms        82.00%      27.609ms      27.609ms           0 b           0 b       2.79 Gb           0 b             1  \n",
            "                                           aten::unbind         6.41%       2.158ms         6.45%       2.171ms       2.171ms           0 b           0 b           0 b           0 b             1  \n",
            "                                            LINEAR PASS         0.60%     202.000us        10.49%       3.532ms       3.532ms           0 b           0 b       5.00 Kb           0 b             1  \n",
            "-------------------------------------------------------  ------------  ------------  ------------  ------------  ------------  ------------  ------------  ------------  ------------  ------------  \n",
            "Self CPU time total: 33.670ms\n",
            "\n"
          ]
        },
        {
          "output_type": "execute_result",
          "data": {
            "text/plain": [
              "'\\n(Some columns are omitted)\\n\\n--------------  ------------  ------------  ------------  ---------------------------------\\n          Name    Self CPU %      Self CPU  Self CPU Mem   Source Location\\n--------------  ------------  ------------  ------------  ---------------------------------\\n      aten::gt        57.17%     129.089ms           0 b  <ipython-input-...>(12): forward\\n                                                          /mnt/xarfuse/.../torch/nn\\n                                                          <ipython-input-...>(25): <module>\\n                                                          /mnt/xarfuse/.../IPython/\\n                                                          /mnt/xarfuse/.../IPython/\\n\\n aten::nonzero        37.38%      84.402ms           0 b  <ipython-input-...>(12): forward\\n                                                          /mnt/xarfuse/.../torch/nn\\n                                                          <ipython-input-...>(25): <module>\\n                                                          /mnt/xarfuse/.../IPython/\\n                                                          /mnt/xarfuse/.../IPython/\\n\\n   INDEX SCORE         3.32%       7.491ms    -119.21 Mb  /mnt/xarfuse/.../torch/au\\n                                                          <ipython-input-...>(10): forward\\n                                                          /mnt/xarfuse/.../torch/nn\\n                                                          <ipython-input-...>(25): <module>\\n                                                          /mnt/xarfuse/.../IPython/\\n\\naten::as_strided         0.20%    441.587us          0 b  <ipython-input-...>(12): forward\\n                                                          /mnt/xarfuse/.../torch/nn\\n                                                          <ipython-input-...>(25): <module>\\n                                                          /mnt/xarfuse/.../IPython/\\n                                                          /mnt/xarfuse/.../IPython/\\n\\n aten::nonzero\\n     _numpy             0.18%     395.602us           0 b  <ipython-input-...>(12): forward\\n                                                          /mnt/xarfuse/.../torch/nn\\n                                                          <ipython-input-...>(25): <module>\\n                                                          /mnt/xarfuse/.../IPython/\\n                                                          /mnt/xarfuse/.../IPython/\\n--------------  ------------  ------------  ------------  ---------------------------------\\nSelf CPU time total: 225.801ms\\n\\n'"
            ],
            "application/vnd.google.colaboratory.intrinsic+json": {
              "type": "string"
            }
          },
          "metadata": {},
          "execution_count": 7
        }
      ],
      "source": [
        "class MyModule(nn.Module):\n",
        "    def __init__(self, in_features: int, out_features: int, bias: bool = True):\n",
        "        super(MyModule, self).__init__()\n",
        "        self.linear = nn.Linear(in_features, out_features, bias)\n",
        "\n",
        "    def forward(self, input, mask):\n",
        "        with profiler.record_function(\"LINEAR PASS\"):\n",
        "            out = self.linear(input)\n",
        "\n",
        "        with profiler.record_function(\"MASK INDICES\"):\n",
        "            threshold = out.sum(axis=1).mean()\n",
        "            hi_idx = (mask > threshold).nonzero(as_tuple=True)\n",
        "\n",
        "        return out, hi_idx\n",
        "\n",
        "\n",
        "model = MyModule(500, 10).cuda()\n",
        "input = torch.rand(128, 500).cuda()\n",
        "mask = torch.rand((500, 500, 500), dtype=torch.float).cuda()\n",
        "\n",
        "# warm-up\n",
        "model(input, mask)\n",
        "\n",
        "with profiler.profile(with_stack=True, profile_memory=True) as prof:\n",
        "    out, idx = model(input, mask)\n",
        "\n",
        "print(prof.key_averages(group_by_stack_n=5).table(sort_by='self_cpu_time_total', row_limit=5))\n",
        "\n",
        "\"\"\"\n",
        "(Some columns are omitted)\n",
        "\n",
        "--------------  ------------  ------------  ------------  ---------------------------------\n",
        "          Name    Self CPU %      Self CPU  Self CPU Mem   Source Location\n",
        "--------------  ------------  ------------  ------------  ---------------------------------\n",
        "      aten::gt        57.17%     129.089ms           0 b  <ipython-input-...>(12): forward\n",
        "                                                          /mnt/xarfuse/.../torch/nn\n",
        "                                                          <ipython-input-...>(25): <module>\n",
        "                                                          /mnt/xarfuse/.../IPython/\n",
        "                                                          /mnt/xarfuse/.../IPython/\n",
        "\n",
        " aten::nonzero        37.38%      84.402ms           0 b  <ipython-input-...>(12): forward\n",
        "                                                          /mnt/xarfuse/.../torch/nn\n",
        "                                                          <ipython-input-...>(25): <module>\n",
        "                                                          /mnt/xarfuse/.../IPython/\n",
        "                                                          /mnt/xarfuse/.../IPython/\n",
        "\n",
        "   INDEX SCORE         3.32%       7.491ms    -119.21 Mb  /mnt/xarfuse/.../torch/au\n",
        "                                                          <ipython-input-...>(10): forward\n",
        "                                                          /mnt/xarfuse/.../torch/nn\n",
        "                                                          <ipython-input-...>(25): <module>\n",
        "                                                          /mnt/xarfuse/.../IPython/\n",
        "\n",
        "aten::as_strided         0.20%    441.587us          0 b  <ipython-input-...>(12): forward\n",
        "                                                          /mnt/xarfuse/.../torch/nn\n",
        "                                                          <ipython-input-...>(25): <module>\n",
        "                                                          /mnt/xarfuse/.../IPython/\n",
        "                                                          /mnt/xarfuse/.../IPython/\n",
        "\n",
        " aten::nonzero\n",
        "     _numpy             0.18%     395.602us           0 b  <ipython-input-...>(12): forward\n",
        "                                                          /mnt/xarfuse/.../torch/nn\n",
        "                                                          <ipython-input-...>(25): <module>\n",
        "                                                          /mnt/xarfuse/.../IPython/\n",
        "                                                          /mnt/xarfuse/.../IPython/\n",
        "--------------  ------------  ------------  ------------  ---------------------------------\n",
        "Self CPU time total: 225.801ms\n",
        "\n",
        "\"\"\""
      ]
    },
    {
      "cell_type": "markdown",
      "metadata": {
        "id": "8J6XEn49Mt_6"
      },
      "source": [
        "Further Reading\n",
        "===============\n",
        "\n",
        "We have seen how Profiler can be used to investigate time and memory\n",
        "bottlenecks in PyTorch models. Read more about Profiler here:\n",
        "\n",
        "-   [Profiler Usage\n",
        "    Recipe](https://pytorch.org/tutorials/recipes/recipes/profiler.html)\n",
        "-   [Profiling RPC-Based\n",
        "    Workloads](https://pytorch.org/tutorials/recipes/distributed_rpc_profiling.html)\n",
        "-   [Profiler API\n",
        "    Docs](https://pytorch.org/docs/stable/autograd.html?highlight=profiler#profiler)\n"
      ]
    }
  ],
  "metadata": {
    "kernelspec": {
      "display_name": "Python 3",
      "name": "python3"
    },
    "language_info": {
      "codemirror_mode": {
        "name": "ipython",
        "version": 3
      },
      "file_extension": ".py",
      "mimetype": "text/x-python",
      "name": "python",
      "nbconvert_exporter": "python",
      "pygments_lexer": "ipython3",
      "version": "3.10.14"
    },
    "colab": {
      "provenance": [],
      "gpuType": "T4",
      "include_colab_link": true
    },
    "accelerator": "GPU"
  },
  "nbformat": 4,
  "nbformat_minor": 0
}