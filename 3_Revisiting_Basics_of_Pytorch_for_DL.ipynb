{
  "cells": [
    {
      "cell_type": "markdown",
      "metadata": {
        "id": "view-in-github",
        "colab_type": "text"
      },
      "source": [
        "<a href=\"https://colab.research.google.com/github/bhattacharya5/DLOps/blob/main/3_Revisiting_Basics_of_Pytorch_for_DL.ipynb\" target=\"_parent\"><img src=\"https://colab.research.google.com/assets/colab-badge.svg\" alt=\"Open In Colab\"/></a>"
      ]
    },
    {
      "cell_type": "code",
      "execution_count": null,
      "metadata": {
        "id": "dlgov0KthVtb"
      },
      "outputs": [],
      "source": [
        "# For tips on running notebooks in Google Colab, see\n",
        "# https://pytorch.org/tutorials/beginner/colab\n",
        "%matplotlib inline"
      ]
    },
    {
      "cell_type": "markdown",
      "metadata": {
        "id": "PDSsQiS8hVtc"
      },
      "source": [
        "\n",
        "# Quickstart\n",
        "This section runs through the API for common tasks in machine learning. Refer to the links in each section to dive deeper.\n",
        "\n",
        "## Working with data\n",
        "PyTorch has two [primitives to work with data](https://pytorch.org/docs/stable/data.html):\n",
        "``torch.utils.data.DataLoader`` and ``torch.utils.data.Dataset``.\n",
        "``Dataset`` stores the samples and their corresponding labels, and ``DataLoader`` wraps an iterable around\n",
        "the ``Dataset``.\n"
      ]
    },
    {
      "cell_type": "code",
      "execution_count": null,
      "metadata": {
        "id": "qUbk0YGahVte"
      },
      "outputs": [],
      "source": [
        "import torch\n",
        "from torch import nn\n",
        "from torch.utils.data import DataLoader\n",
        "from torchvision import datasets\n",
        "from torchvision.transforms import ToTensor"
      ]
    },
    {
      "cell_type": "markdown",
      "metadata": {
        "id": "jETmb6W2hVte"
      },
      "source": [
        "PyTorch offers domain-specific libraries such as [TorchText](https://pytorch.org/text/stable/index.html),\n",
        "[TorchVision](https://pytorch.org/vision/stable/index.html), and [TorchAudio](https://pytorch.org/audio/stable/index.html),\n",
        "all of which include datasets. For this tutorial, we  will be using a TorchVision dataset.\n",
        "\n",
        "The ``torchvision.datasets`` module contains ``Dataset`` objects for many real-world vision data like\n",
        "CIFAR, COCO ([full list here](https://pytorch.org/vision/stable/datasets.html)). In this tutorial, we\n",
        "use the FashionMNIST dataset. Every TorchVision ``Dataset`` includes two arguments: ``transform`` and\n",
        "``target_transform`` to modify the samples and labels respectively.\n",
        "\n"
      ]
    },
    {
      "cell_type": "code",
      "execution_count": null,
      "metadata": {
        "id": "H73HLsNXhVtf",
        "colab": {
          "base_uri": "https://localhost:8080/"
        },
        "outputId": "6378dd80-269c-4ff4-a7a8-ee64e7c5fa20"
      },
      "outputs": [
        {
          "output_type": "stream",
          "name": "stdout",
          "text": [
            "Downloading http://fashion-mnist.s3-website.eu-central-1.amazonaws.com/train-images-idx3-ubyte.gz\n",
            "Downloading http://fashion-mnist.s3-website.eu-central-1.amazonaws.com/train-images-idx3-ubyte.gz to data/FashionMNIST/raw/train-images-idx3-ubyte.gz\n"
          ]
        },
        {
          "output_type": "stream",
          "name": "stderr",
          "text": [
            "100%|██████████| 26421880/26421880 [00:02<00:00, 10344871.08it/s]\n"
          ]
        },
        {
          "output_type": "stream",
          "name": "stdout",
          "text": [
            "Extracting data/FashionMNIST/raw/train-images-idx3-ubyte.gz to data/FashionMNIST/raw\n",
            "\n",
            "Downloading http://fashion-mnist.s3-website.eu-central-1.amazonaws.com/train-labels-idx1-ubyte.gz\n",
            "Downloading http://fashion-mnist.s3-website.eu-central-1.amazonaws.com/train-labels-idx1-ubyte.gz to data/FashionMNIST/raw/train-labels-idx1-ubyte.gz\n"
          ]
        },
        {
          "output_type": "stream",
          "name": "stderr",
          "text": [
            "100%|██████████| 29515/29515 [00:00<00:00, 201155.44it/s]\n"
          ]
        },
        {
          "output_type": "stream",
          "name": "stdout",
          "text": [
            "Extracting data/FashionMNIST/raw/train-labels-idx1-ubyte.gz to data/FashionMNIST/raw\n",
            "\n",
            "Downloading http://fashion-mnist.s3-website.eu-central-1.amazonaws.com/t10k-images-idx3-ubyte.gz\n",
            "Downloading http://fashion-mnist.s3-website.eu-central-1.amazonaws.com/t10k-images-idx3-ubyte.gz to data/FashionMNIST/raw/t10k-images-idx3-ubyte.gz\n"
          ]
        },
        {
          "output_type": "stream",
          "name": "stderr",
          "text": [
            "100%|██████████| 4422102/4422102 [00:01<00:00, 3729841.48it/s]\n"
          ]
        },
        {
          "output_type": "stream",
          "name": "stdout",
          "text": [
            "Extracting data/FashionMNIST/raw/t10k-images-idx3-ubyte.gz to data/FashionMNIST/raw\n",
            "\n",
            "Downloading http://fashion-mnist.s3-website.eu-central-1.amazonaws.com/t10k-labels-idx1-ubyte.gz\n",
            "Downloading http://fashion-mnist.s3-website.eu-central-1.amazonaws.com/t10k-labels-idx1-ubyte.gz to data/FashionMNIST/raw/t10k-labels-idx1-ubyte.gz\n"
          ]
        },
        {
          "output_type": "stream",
          "name": "stderr",
          "text": [
            "100%|██████████| 5148/5148 [00:00<00:00, 20350873.70it/s]"
          ]
        },
        {
          "output_type": "stream",
          "name": "stdout",
          "text": [
            "Extracting data/FashionMNIST/raw/t10k-labels-idx1-ubyte.gz to data/FashionMNIST/raw\n",
            "\n"
          ]
        },
        {
          "output_type": "stream",
          "name": "stderr",
          "text": [
            "\n"
          ]
        }
      ],
      "source": [
        "# Download training data from open datasets.\n",
        "training_data = datasets.FashionMNIST(\n",
        "    root=\"data\",\n",
        "    train=True,\n",
        "    download=True,\n",
        "    transform=ToTensor(),\n",
        ")\n",
        "\n",
        "# Download test data from open datasets.\n",
        "test_data = datasets.FashionMNIST(\n",
        "    root=\"data\",\n",
        "    train=False,\n",
        "    download=True,\n",
        "    transform=ToTensor(),\n",
        ")"
      ]
    },
    {
      "cell_type": "code",
      "source": [],
      "metadata": {
        "id": "rQtsfpiUqNRM"
      },
      "execution_count": null,
      "outputs": []
    },
    {
      "cell_type": "markdown",
      "metadata": {
        "id": "YxL91dsghVtf"
      },
      "source": [
        "We pass the ``Dataset`` as an argument to ``DataLoader``. This wraps an iterable over our dataset, and supports\n",
        "automatic batching, sampling, shuffling and multiprocess data loading. Here we define a batch size of 64, i.e. each element\n",
        "in the dataloader iterable will return a batch of 64 features and labels.\n",
        "\n"
      ]
    },
    {
      "cell_type": "code",
      "execution_count": null,
      "metadata": {
        "id": "r6w7vnTBhVtg",
        "colab": {
          "base_uri": "https://localhost:8080/"
        },
        "outputId": "a8419aa1-03c2-49de-dbed-a5968541e600"
      },
      "outputs": [
        {
          "output_type": "stream",
          "name": "stdout",
          "text": [
            "Shape of X [N, C, H, W]: torch.Size([16, 1, 28, 28])\n",
            "Shape of y: torch.Size([16]) torch.int64\n"
          ]
        }
      ],
      "source": [
        "batch_size = 16\n",
        "\n",
        "# Create data loaders.\n",
        "train_dataloader = DataLoader(training_data, batch_size=batch_size)\n",
        "test_dataloader = DataLoader(test_data, batch_size=batch_size)\n",
        "\n",
        "for X, y in test_dataloader:\n",
        "    print(f\"Shape of X [N, C, H, W]: {X.shape}\")\n",
        "    print(f\"Shape of y: {y.shape} {y.dtype}\")\n",
        "    break"
      ]
    },
    {
      "cell_type": "markdown",
      "metadata": {
        "id": "DM1GP5ffhVtg"
      },
      "source": [
        "Read more about [loading data in PyTorch](data_tutorial.html).\n",
        "\n",
        "\n"
      ]
    },
    {
      "cell_type": "markdown",
      "metadata": {
        "id": "FoEAhdbJhVth"
      },
      "source": [
        "--------------\n",
        "\n",
        "\n"
      ]
    },
    {
      "cell_type": "markdown",
      "metadata": {
        "id": "FmgiHA-QhVti"
      },
      "source": [
        "## Creating Models\n",
        "To define a neural network in PyTorch, we create a class that inherits\n",
        "from [nn.Module](https://pytorch.org/docs/stable/generated/torch.nn.Module.html). We define the layers of the network\n",
        "in the ``__init__`` function and specify how data will pass through the network in the ``forward`` function. To accelerate\n",
        "operations in the neural network, we move it to the GPU or MPS if available.\n",
        "\n"
      ]
    },
    {
      "cell_type": "code",
      "execution_count": null,
      "metadata": {
        "id": "uPpkhHIxhVti",
        "colab": {
          "base_uri": "https://localhost:8080/"
        },
        "outputId": "15ab17e1-1cff-45d5-cf97-4008932f5e69"
      },
      "outputs": [
        {
          "output_type": "stream",
          "name": "stdout",
          "text": [
            "Using cuda device\n",
            "NeuralNetwork(\n",
            "  (flatten): Flatten(start_dim=1, end_dim=-1)\n",
            "  (linear_relu_stack): Sequential(\n",
            "    (0): Linear(in_features=784, out_features=512, bias=True)\n",
            "    (1): ReLU()\n",
            "    (2): Linear(in_features=512, out_features=512, bias=True)\n",
            "    (3): ReLU()\n",
            "    (4): Linear(in_features=512, out_features=10, bias=True)\n",
            "  )\n",
            ")\n"
          ]
        }
      ],
      "source": [
        "# Get cpu, gpu or mps device for training.\n",
        "device = (\n",
        "    \"cuda\"\n",
        "    if torch.cuda.is_available()\n",
        "    else \"mps\"\n",
        "    if torch.backends.mps.is_available()\n",
        "    else \"cpu\"\n",
        ")\n",
        "print(f\"Using {device} device\")\n",
        "\n",
        "# Define model\n",
        "class NeuralNetwork(nn.Module):\n",
        "    def __init__(self):\n",
        "        super().__init__()\n",
        "        self.flatten = nn.Flatten()\n",
        "        self.linear_relu_stack = nn.Sequential(\n",
        "            nn.Linear(28*28, 512),\n",
        "            nn.ReLU(),\n",
        "            nn.Linear(512, 512),\n",
        "            nn.ReLU(),\n",
        "            nn.Linear(512, 10)\n",
        "        )\n",
        "\n",
        "    def forward(self, x):\n",
        "        x = self.flatten(x)\n",
        "        logits = self.linear_relu_stack(x)\n",
        "        return logits\n",
        "\n",
        "model = NeuralNetwork().to(device)\n",
        "print(model)"
      ]
    },
    {
      "cell_type": "markdown",
      "metadata": {
        "id": "OvlGfPQqhVtj"
      },
      "source": [
        "Read more about [building neural networks in PyTorch](buildmodel_tutorial.html).\n",
        "\n",
        "\n"
      ]
    },
    {
      "cell_type": "markdown",
      "metadata": {
        "id": "E14k5u5qhVtj"
      },
      "source": [
        "--------------\n",
        "\n",
        "\n"
      ]
    },
    {
      "cell_type": "markdown",
      "metadata": {
        "id": "VdIXu4J8hVtj"
      },
      "source": [
        "## Optimizing the Model Parameters\n",
        "To train a model, we need a [loss function](https://pytorch.org/docs/stable/nn.html#loss-functions)\n",
        "and an [optimizer](https://pytorch.org/docs/stable/optim.html).\n",
        "\n"
      ]
    },
    {
      "cell_type": "code",
      "execution_count": null,
      "metadata": {
        "id": "GBattd45hVtj"
      },
      "outputs": [],
      "source": [
        "loss_fn = nn.CrossEntropyLoss()\n",
        "optimizer = torch.optim.SGD(model.parameters(), lr=1e-3)"
      ]
    },
    {
      "cell_type": "markdown",
      "metadata": {
        "id": "snZ11glDhVtk"
      },
      "source": [
        "In a single training loop, the model makes predictions on the training dataset (fed to it in batches), and\n",
        "backpropagates the prediction error to adjust the model's parameters.\n",
        "\n"
      ]
    },
    {
      "cell_type": "code",
      "execution_count": null,
      "metadata": {
        "id": "vMVoVa-hhVtk"
      },
      "outputs": [],
      "source": [
        "def train(dataloader, model, loss_fn, optimizer):\n",
        "    size = len(dataloader.dataset)\n",
        "    model.train()\n",
        "    for batch, (X, y) in enumerate(dataloader):\n",
        "        X, y = X.to(device), y.to(device)\n",
        "\n",
        "        # Compute prediction error\n",
        "        pred = model(X)\n",
        "        loss = loss_fn(pred, y)\n",
        "\n",
        "        # Backpropagation\n",
        "        loss.backward()\n",
        "        optimizer.step()\n",
        "        optimizer.zero_grad()\n",
        "\n",
        "        if batch % 100 == 0:\n",
        "            loss, current = loss.item(), (batch + 1) * len(X)\n",
        "            print(f\"loss: {loss:>7f}  [{current:>5d}/{size:>5d}]\")"
      ]
    },
    {
      "cell_type": "markdown",
      "metadata": {
        "id": "ewLz-riuhVtk"
      },
      "source": [
        "We also check the model's performance against the test dataset to ensure it is learning.\n",
        "\n"
      ]
    },
    {
      "cell_type": "code",
      "execution_count": null,
      "metadata": {
        "id": "11iws2izhVtk"
      },
      "outputs": [],
      "source": [
        "def test(dataloader, model, loss_fn):\n",
        "    size = len(dataloader.dataset)\n",
        "    num_batches = len(dataloader)\n",
        "    model.eval()\n",
        "    test_loss, correct = 0, 0\n",
        "    with torch.no_grad():\n",
        "        for X, y in dataloader:\n",
        "            X, y = X.to(device), y.to(device)\n",
        "            pred = model(X)\n",
        "            test_loss += loss_fn(pred, y).item()\n",
        "            correct += (pred.argmax(1) == y).type(torch.float).sum().item()\n",
        "    test_loss /= num_batches\n",
        "    correct /= size\n",
        "    print(f\"Test Error: \\n Accuracy: {(100*correct):>0.1f}%, Avg loss: {test_loss:>8f} \\n\")"
      ]
    },
    {
      "cell_type": "markdown",
      "metadata": {
        "id": "4JibHT05hVtl"
      },
      "source": [
        "The training process is conducted over several iterations (*epochs*). During each epoch, the model learns\n",
        "parameters to make better predictions. We print the model's accuracy and loss at each epoch; we'd like to see the\n",
        "accuracy increase and the loss decrease with every epoch.\n",
        "\n"
      ]
    },
    {
      "cell_type": "code",
      "execution_count": null,
      "metadata": {
        "id": "1WtYoqPQhVtl",
        "colab": {
          "base_uri": "https://localhost:8080/"
        },
        "outputId": "92be61d1-ed85-445d-c078-7aad368f8164"
      },
      "outputs": [
        {
          "output_type": "stream",
          "name": "stdout",
          "text": [
            "Epoch 1\n",
            "-------------------------------\n",
            "loss: 2.307119  [   16/60000]\n",
            "loss: 2.277530  [ 1616/60000]\n",
            "loss: 2.285434  [ 3216/60000]\n",
            "loss: 2.283573  [ 4816/60000]\n",
            "loss: 2.252782  [ 6416/60000]\n",
            "loss: 2.226481  [ 8016/60000]\n",
            "loss: 2.200916  [ 9616/60000]\n",
            "loss: 2.170958  [11216/60000]\n",
            "loss: 2.210041  [12816/60000]\n",
            "loss: 2.137285  [14416/60000]\n",
            "loss: 2.113007  [16016/60000]\n",
            "loss: 2.093456  [17616/60000]\n",
            "loss: 2.104374  [19216/60000]\n",
            "loss: 2.061914  [20816/60000]\n",
            "loss: 2.055224  [22416/60000]\n",
            "loss: 1.982882  [24016/60000]\n",
            "loss: 1.971196  [25616/60000]\n",
            "loss: 2.045040  [27216/60000]\n",
            "loss: 1.907813  [28816/60000]\n",
            "loss: 1.905160  [30416/60000]\n",
            "loss: 1.782333  [32016/60000]\n",
            "loss: 1.741408  [33616/60000]\n",
            "loss: 1.634207  [35216/60000]\n",
            "loss: 1.765567  [36816/60000]\n",
            "loss: 1.829846  [38416/60000]\n",
            "loss: 1.603065  [40016/60000]\n",
            "loss: 1.568844  [41616/60000]\n",
            "loss: 1.651304  [43216/60000]\n",
            "loss: 1.374429  [44816/60000]\n",
            "loss: 1.492989  [46416/60000]\n",
            "loss: 1.552301  [48016/60000]\n",
            "loss: 1.324709  [49616/60000]\n",
            "loss: 1.404925  [51216/60000]\n",
            "loss: 1.364743  [52816/60000]\n",
            "loss: 1.260901  [54416/60000]\n",
            "loss: 1.362980  [56016/60000]\n",
            "loss: 1.284227  [57616/60000]\n",
            "loss: 1.059590  [59216/60000]\n",
            "Test Error: \n",
            " Accuracy: 62.6%, Avg loss: 1.256380 \n",
            "\n",
            "Epoch 2\n",
            "-------------------------------\n",
            "loss: 1.303925  [   16/60000]\n",
            "loss: 1.137481  [ 1616/60000]\n",
            "loss: 1.215860  [ 3216/60000]\n",
            "loss: 1.250507  [ 4816/60000]\n",
            "loss: 1.124073  [ 6416/60000]\n",
            "loss: 1.286096  [ 8016/60000]\n",
            "loss: 1.211285  [ 9616/60000]\n",
            "loss: 1.047808  [11216/60000]\n",
            "loss: 1.115645  [12816/60000]\n",
            "loss: 1.119191  [14416/60000]\n",
            "loss: 1.152094  [16016/60000]\n",
            "loss: 0.992651  [17616/60000]\n",
            "loss: 0.895812  [19216/60000]\n",
            "loss: 1.426187  [20816/60000]\n",
            "loss: 1.105329  [22416/60000]\n",
            "loss: 1.065774  [24016/60000]\n",
            "loss: 0.872724  [25616/60000]\n",
            "loss: 1.172852  [27216/60000]\n",
            "loss: 1.132264  [28816/60000]\n",
            "loss: 1.027106  [30416/60000]\n",
            "loss: 0.918704  [32016/60000]\n",
            "loss: 0.657103  [33616/60000]\n",
            "loss: 0.766795  [35216/60000]\n",
            "loss: 0.992279  [36816/60000]\n",
            "loss: 1.278779  [38416/60000]\n",
            "loss: 0.815959  [40016/60000]\n",
            "loss: 0.903783  [41616/60000]\n",
            "loss: 0.886976  [43216/60000]\n",
            "loss: 0.645223  [44816/60000]\n",
            "loss: 0.863382  [46416/60000]\n",
            "loss: 0.866731  [48016/60000]\n",
            "loss: 0.727799  [49616/60000]\n",
            "loss: 0.774374  [51216/60000]\n",
            "loss: 0.837916  [52816/60000]\n",
            "loss: 0.785689  [54416/60000]\n",
            "loss: 1.108391  [56016/60000]\n",
            "loss: 0.880855  [57616/60000]\n",
            "loss: 0.619690  [59216/60000]\n",
            "Test Error: \n",
            " Accuracy: 68.3%, Avg loss: 0.861028 \n",
            "\n",
            "Epoch 3\n",
            "-------------------------------\n",
            "loss: 0.878341  [   16/60000]\n",
            "loss: 0.718553  [ 1616/60000]\n",
            "loss: 0.786139  [ 3216/60000]\n",
            "loss: 0.849321  [ 4816/60000]\n",
            "loss: 0.736171  [ 6416/60000]\n",
            "loss: 0.932987  [ 8016/60000]\n",
            "loss: 0.902092  [ 9616/60000]\n",
            "loss: 0.651057  [11216/60000]\n",
            "loss: 0.822968  [12816/60000]\n",
            "loss: 0.728925  [14416/60000]\n",
            "loss: 0.887071  [16016/60000]\n",
            "loss: 0.672434  [17616/60000]\n",
            "loss: 0.611081  [19216/60000]\n",
            "loss: 1.324097  [20816/60000]\n",
            "loss: 0.829568  [22416/60000]\n",
            "loss: 0.843806  [24016/60000]\n",
            "loss: 0.607238  [25616/60000]\n",
            "loss: 1.007172  [27216/60000]\n",
            "loss: 1.031341  [28816/60000]\n",
            "loss: 0.759731  [30416/60000]\n",
            "loss: 0.736471  [32016/60000]\n",
            "loss: 0.422242  [33616/60000]\n",
            "loss: 0.532827  [35216/60000]\n",
            "loss: 0.754385  [36816/60000]\n",
            "loss: 1.155196  [38416/60000]\n",
            "loss: 0.686650  [40016/60000]\n",
            "loss: 0.773884  [41616/60000]\n",
            "loss: 0.666562  [43216/60000]\n",
            "loss: 0.506894  [44816/60000]\n",
            "loss: 0.686639  [46416/60000]\n",
            "loss: 0.675132  [48016/60000]\n",
            "loss: 0.562964  [49616/60000]\n",
            "loss: 0.578304  [51216/60000]\n",
            "loss: 0.676625  [52816/60000]\n",
            "loss: 0.666241  [54416/60000]\n",
            "loss: 1.013570  [56016/60000]\n",
            "loss: 0.795841  [57616/60000]\n",
            "loss: 0.522275  [59216/60000]\n",
            "Test Error: \n",
            " Accuracy: 73.2%, Avg loss: 0.738971 \n",
            "\n",
            "Epoch 4\n",
            "-------------------------------\n",
            "loss: 0.746301  [   16/60000]\n",
            "loss: 0.612601  [ 1616/60000]\n",
            "loss: 0.681484  [ 3216/60000]\n",
            "loss: 0.696440  [ 4816/60000]\n",
            "loss: 0.605841  [ 6416/60000]\n",
            "loss: 0.780258  [ 8016/60000]\n",
            "loss: 0.784095  [ 9616/60000]\n",
            "loss: 0.503999  [11216/60000]\n",
            "loss: 0.710544  [12816/60000]\n",
            "loss: 0.533770  [14416/60000]\n",
            "loss: 0.820039  [16016/60000]\n",
            "loss: 0.539681  [17616/60000]\n",
            "loss: 0.502738  [19216/60000]\n",
            "loss: 1.218399  [20816/60000]\n",
            "loss: 0.690741  [22416/60000]\n",
            "loss: 0.751669  [24016/60000]\n",
            "loss: 0.534049  [25616/60000]\n",
            "loss: 0.952786  [27216/60000]\n",
            "loss: 0.946167  [28816/60000]\n",
            "loss: 0.631976  [30416/60000]\n",
            "loss: 0.699230  [32016/60000]\n",
            "loss: 0.334606  [33616/60000]\n",
            "loss: 0.434545  [35216/60000]\n",
            "loss: 0.630030  [36816/60000]\n",
            "loss: 1.015265  [38416/60000]\n",
            "loss: 0.668241  [40016/60000]\n",
            "loss: 0.722256  [41616/60000]\n",
            "loss: 0.568361  [43216/60000]\n",
            "loss: 0.463305  [44816/60000]\n",
            "loss: 0.612827  [46416/60000]\n",
            "loss: 0.562781  [48016/60000]\n",
            "loss: 0.492990  [49616/60000]\n",
            "loss: 0.460799  [51216/60000]\n",
            "loss: 0.577422  [52816/60000]\n",
            "loss: 0.613761  [54416/60000]\n",
            "loss: 0.900060  [56016/60000]\n",
            "loss: 0.754654  [57616/60000]\n",
            "loss: 0.466176  [59216/60000]\n",
            "Test Error: \n",
            " Accuracy: 76.5%, Avg loss: 0.668593 \n",
            "\n",
            "Epoch 5\n",
            "-------------------------------\n",
            "loss: 0.654565  [   16/60000]\n",
            "loss: 0.560990  [ 1616/60000]\n",
            "loss: 0.637173  [ 3216/60000]\n",
            "loss: 0.603890  [ 4816/60000]\n",
            "loss: 0.520060  [ 6416/60000]\n",
            "loss: 0.683474  [ 8016/60000]\n",
            "loss: 0.714089  [ 9616/60000]\n",
            "loss: 0.424390  [11216/60000]\n",
            "loss: 0.625257  [12816/60000]\n",
            "loss: 0.416701  [14416/60000]\n",
            "loss: 0.792747  [16016/60000]\n",
            "loss: 0.451015  [17616/60000]\n",
            "loss: 0.440584  [19216/60000]\n",
            "loss: 1.145274  [20816/60000]\n",
            "loss: 0.592998  [22416/60000]\n",
            "loss: 0.695723  [24016/60000]\n",
            "loss: 0.504051  [25616/60000]\n",
            "loss: 0.896070  [27216/60000]\n",
            "loss: 0.857918  [28816/60000]\n",
            "loss: 0.549554  [30416/60000]\n",
            "loss: 0.680371  [32016/60000]\n",
            "loss: 0.283232  [33616/60000]\n",
            "loss: 0.371821  [35216/60000]\n",
            "loss: 0.543077  [36816/60000]\n",
            "loss: 0.888731  [38416/60000]\n",
            "loss: 0.672947  [40016/60000]\n",
            "loss: 0.688107  [41616/60000]\n",
            "loss: 0.508940  [43216/60000]\n",
            "loss: 0.444103  [44816/60000]\n",
            "loss: 0.561964  [46416/60000]\n",
            "loss: 0.491087  [48016/60000]\n",
            "loss: 0.456003  [49616/60000]\n",
            "loss: 0.378482  [51216/60000]\n",
            "loss: 0.499323  [52816/60000]\n",
            "loss: 0.583882  [54416/60000]\n",
            "loss: 0.789649  [56016/60000]\n",
            "loss: 0.718797  [57616/60000]\n",
            "loss: 0.421624  [59216/60000]\n",
            "Test Error: \n",
            " Accuracy: 78.5%, Avg loss: 0.619532 \n",
            "\n",
            "Done!\n"
          ]
        }
      ],
      "source": [
        "epochs = 5\n",
        "for t in range(epochs):\n",
        "    print(f\"Epoch {t+1}\\n-------------------------------\")\n",
        "    train(train_dataloader, model, loss_fn, optimizer)\n",
        "    test(test_dataloader, model, loss_fn)\n",
        "print(\"Done!\")"
      ]
    },
    {
      "cell_type": "markdown",
      "metadata": {
        "id": "vOK-zUumhVtl"
      },
      "source": [
        "Read more about [Training your model](optimization_tutorial.html).\n",
        "\n",
        "\n"
      ]
    },
    {
      "cell_type": "markdown",
      "metadata": {
        "id": "4_wefPIhhVtl"
      },
      "source": [
        "--------------\n",
        "\n",
        "\n"
      ]
    },
    {
      "cell_type": "markdown",
      "metadata": {
        "id": "seag3079hVtl"
      },
      "source": [
        "## Saving Models\n",
        "A common way to save a model is to serialize the internal state dictionary (containing the model parameters).\n",
        "\n"
      ]
    },
    {
      "cell_type": "code",
      "execution_count": null,
      "metadata": {
        "id": "uBM4PUn2hVtl",
        "colab": {
          "base_uri": "https://localhost:8080/"
        },
        "outputId": "a07fd3b9-6bfb-45f7-aa15-9f06190d38bf"
      },
      "outputs": [
        {
          "output_type": "stream",
          "name": "stdout",
          "text": [
            "Saved PyTorch Model State to model.pth\n"
          ]
        }
      ],
      "source": [
        "torch.save(model.state_dict(), \"model.pth\")\n",
        "print(\"Saved PyTorch Model State to model.pth\")"
      ]
    },
    {
      "cell_type": "markdown",
      "metadata": {
        "id": "vCtuYsxZhVtl"
      },
      "source": [
        "## Loading Models\n",
        "\n",
        "The process for loading a model includes re-creating the model structure and loading\n",
        "the state dictionary into it.\n",
        "\n"
      ]
    },
    {
      "cell_type": "code",
      "execution_count": null,
      "metadata": {
        "id": "rbRWP5XLhVtm",
        "colab": {
          "base_uri": "https://localhost:8080/"
        },
        "outputId": "c26d4d33-ec04-462b-acd4-6378fdc87bf2"
      },
      "outputs": [
        {
          "output_type": "execute_result",
          "data": {
            "text/plain": [
              "<All keys matched successfully>"
            ]
          },
          "metadata": {},
          "execution_count": 12
        }
      ],
      "source": [
        "model = NeuralNetwork().to(device)\n",
        "model.load_state_dict(torch.load(\"model.pth\"))"
      ]
    },
    {
      "cell_type": "markdown",
      "metadata": {
        "id": "Mj8Lx6sGhVtn"
      },
      "source": [
        "This model can now be used to make predictions.\n",
        "\n"
      ]
    },
    {
      "cell_type": "code",
      "execution_count": null,
      "metadata": {
        "id": "6hXfZANLhVtn",
        "colab": {
          "base_uri": "https://localhost:8080/"
        },
        "outputId": "ca40f0ed-92ac-41e3-8289-ee658d645f6d"
      },
      "outputs": [
        {
          "output_type": "stream",
          "name": "stdout",
          "text": [
            "Predicted: \"Ankle boot\", Actual: \"Ankle boot\"\n"
          ]
        }
      ],
      "source": [
        "classes = [\n",
        "    \"T-shirt/top\",\n",
        "    \"Trouser\",\n",
        "    \"Pullover\",\n",
        "    \"Dress\",\n",
        "    \"Coat\",\n",
        "    \"Sandal\",\n",
        "    \"Shirt\",\n",
        "    \"Sneaker\",\n",
        "    \"Bag\",\n",
        "    \"Ankle boot\",\n",
        "]\n",
        "\n",
        "model.eval()\n",
        "x, y = test_data[0][0], test_data[0][1]\n",
        "with torch.no_grad():\n",
        "    x = x.to(device)\n",
        "    pred = model(x)\n",
        "    predicted, actual = classes[pred[0].argmax(0)], classes[y]\n",
        "    print(f'Predicted: \"{predicted}\", Actual: \"{actual}\"')"
      ]
    },
    {
      "cell_type": "markdown",
      "metadata": {
        "id": "7A3OIXxdhVtn"
      },
      "source": [
        "Read more about [Saving & Loading your model](saveloadrun_tutorial.html).\n",
        "\n",
        "\n"
      ]
    }
  ],
  "metadata": {
    "kernelspec": {
      "display_name": "Python 3",
      "name": "python3"
    },
    "language_info": {
      "codemirror_mode": {
        "name": "ipython",
        "version": 3
      },
      "file_extension": ".py",
      "mimetype": "text/x-python",
      "name": "python",
      "nbconvert_exporter": "python",
      "pygments_lexer": "ipython3",
      "version": "3.10.13"
    },
    "colab": {
      "provenance": [],
      "gpuType": "T4",
      "include_colab_link": true
    },
    "accelerator": "GPU"
  },
  "nbformat": 4,
  "nbformat_minor": 0
}