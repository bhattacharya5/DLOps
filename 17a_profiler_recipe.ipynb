{
  "cells": [
    {
      "cell_type": "markdown",
      "metadata": {
        "id": "view-in-github",
        "colab_type": "text"
      },
      "source": [
        "<a href=\"https://colab.research.google.com/github/bhattacharya5/DLOps/blob/main/17a_profiler_recipe.ipynb\" target=\"_parent\"><img src=\"https://colab.research.google.com/assets/colab-badge.svg\" alt=\"Open In Colab\"/></a>"
      ]
    },
    {
      "cell_type": "code",
      "execution_count": null,
      "metadata": {
        "id": "g88jdXxBC64e"
      },
      "outputs": [],
      "source": [
        "# For tips on running notebooks in Google Colab, see\n",
        "# https://pytorch.org/tutorials/beginner/colab\n",
        "%matplotlib inline"
      ]
    },
    {
      "cell_type": "markdown",
      "metadata": {
        "id": "8oT229QmC64g"
      },
      "source": [
        "PyTorch Profiler\n",
        "================\n",
        "\n",
        "This recipe explains how to use PyTorch profiler and measure the time\n",
        "and memory consumption of the model\\'s operators.\n",
        "\n",
        "Introduction\n",
        "------------\n",
        "\n",
        "PyTorch includes a simple profiler API that is useful when user needs to\n",
        "determine the most expensive operators in the model.\n",
        "\n",
        "In this recipe, we will use a simple Resnet model to demonstrate how to\n",
        "use profiler to analyze model performance.\n",
        "\n",
        "Setup\n",
        "-----\n",
        "\n",
        "To install `torch` and `torchvision` use the following command:\n",
        "\n",
        "``` {.sourceCode .sh}\n",
        "pip install torch torchvision\n",
        "```\n"
      ]
    },
    {
      "cell_type": "markdown",
      "metadata": {
        "id": "xWg-D0q-C64i"
      },
      "source": [
        "Steps\n",
        "=====\n",
        "\n",
        "1.  Import all necessary libraries\n",
        "2.  Instantiate a simple Resnet model\n",
        "3.  Using profiler to analyze execution time\n",
        "4.  Using profiler to analyze memory consumption\n",
        "5.  Using tracing functionality\n",
        "6.  Examining stack traces\n",
        "7.  Visualizing data as a flame graph\n",
        "8.  Using profiler to analyze long-running jobs\n",
        "\n",
        "1. Import all necessary libraries\n",
        "---------------------------------\n",
        "\n",
        "In this recipe we will use `torch`, `torchvision.models` and `profiler`\n",
        "modules:\n"
      ]
    },
    {
      "cell_type": "code",
      "execution_count": null,
      "metadata": {
        "id": "3QJfGvDMC64i"
      },
      "outputs": [],
      "source": [
        "import torch\n",
        "import torchvision.models as models\n",
        "from torch.profiler import profile, record_function, ProfilerActivity"
      ]
    },
    {
      "cell_type": "markdown",
      "metadata": {
        "id": "Y0HxSoPlC64j"
      },
      "source": [
        "2. Instantiate a simple Resnet model\n",
        "====================================\n",
        "\n",
        "Let\\'s create an instance of a Resnet model and prepare an input for it:\n"
      ]
    },
    {
      "cell_type": "code",
      "execution_count": null,
      "metadata": {
        "id": "N2I-6LP3C64j"
      },
      "outputs": [],
      "source": [
        "model = models.resnet18()\n",
        "inputs = torch.randn(5, 3, 224, 224)"
      ]
    },
    {
      "cell_type": "markdown",
      "metadata": {
        "id": "_sFCHne_C64k"
      },
      "source": [
        "3. Using profiler to analyze execution time\n",
        "===========================================\n",
        "\n",
        "PyTorch profiler is enabled through the context manager and accepts a\n",
        "number of parameters, some of the most useful are:\n",
        "\n",
        "-   \n",
        "\n",
        "    `activities` - a list of activities to profile:\n",
        "\n",
        "    :   -   `ProfilerActivity.CPU` - PyTorch operators, TorchScript\n",
        "            functions and user-defined code labels (see\n",
        "            `record_function` below);\n",
        "        -   `ProfilerActivity.CUDA` - on-device CUDA kernels;\n",
        "\n",
        "-   `record_shapes` - whether to record shapes of the operator inputs;\n",
        "-   `profile_memory` - whether to report amount of memory consumed by\n",
        "    model\\'s Tensors;\n",
        "-   `use_cuda` - whether to measure execution time of CUDA kernels.\n",
        "\n",
        "Note: when using CUDA, profiler also shows the runtime CUDA events\n",
        "occurring on the host.\n"
      ]
    },
    {
      "cell_type": "markdown",
      "metadata": {
        "id": "KuJJ_qvDC64k"
      },
      "source": [
        "Let\\'s see how we can use profiler to analyze the execution time:\n"
      ]
    },
    {
      "cell_type": "code",
      "execution_count": null,
      "metadata": {
        "id": "s18b_8gyC64k"
      },
      "outputs": [],
      "source": [
        "with profile(activities=[ProfilerActivity.CPU], record_shapes=True) as prof:\n",
        "    with record_function(\"model_inference\"):\n",
        "        model(inputs)"
      ]
    },
    {
      "cell_type": "markdown",
      "metadata": {
        "id": "ePsOmLTBC64l"
      },
      "source": [
        "Note that we can use `record_function` context manager to label\n",
        "arbitrary code ranges with user provided names (`model_inference` is\n",
        "used as a label in the example above).\n",
        "\n",
        "Profiler allows one to check which operators were called during the\n",
        "execution of a code range wrapped with a profiler context manager. If\n",
        "multiple profiler ranges are active at the same time (e.g. in parallel\n",
        "PyTorch threads), each profiling context manager tracks only the\n",
        "operators of its corresponding range. Profiler also automatically\n",
        "profiles the asynchronous tasks launched with `torch.jit._fork` and (in\n",
        "case of a backward pass) the backward pass operators launched with\n",
        "`backward()` call.\n",
        "\n",
        "Let\\'s print out the stats for the execution above:\n"
      ]
    },
    {
      "cell_type": "code",
      "execution_count": null,
      "metadata": {
        "id": "AfY4T7lZC64l",
        "colab": {
          "base_uri": "https://localhost:8080/"
        },
        "outputId": "f50041a2-88a5-4376-e427-4814a1001a7a"
      },
      "outputs": [
        {
          "output_type": "stream",
          "name": "stdout",
          "text": [
            "---------------------------------  ------------  ------------  ------------  ------------  ------------  ------------  \n",
            "                             Name    Self CPU %      Self CPU   CPU total %     CPU total  CPU time avg    # of Calls  \n",
            "---------------------------------  ------------  ------------  ------------  ------------  ------------  ------------  \n",
            "                  model_inference         2.36%      23.050ms       100.00%     977.665ms     977.665ms             1  \n",
            "                     aten::conv2d         0.34%       3.372ms        71.19%     696.046ms      34.802ms            20  \n",
            "                aten::convolution         0.41%       4.027ms        70.85%     692.674ms      34.634ms            20  \n",
            "               aten::_convolution         0.08%     771.000us        70.44%     688.647ms      34.432ms            20  \n",
            "         aten::mkldnn_convolution        69.74%     681.807ms        70.36%     687.876ms      34.394ms            20  \n",
            "                 aten::max_pool2d         0.01%      64.000us        12.58%     123.023ms     123.023ms             1  \n",
            "    aten::max_pool2d_with_indices        12.58%     122.959ms        12.58%     122.959ms     122.959ms             1  \n",
            "                 aten::batch_norm         0.02%     154.000us         8.18%      79.961ms       3.998ms            20  \n",
            "     aten::_batch_norm_impl_index         0.37%       3.592ms         8.16%      79.807ms       3.990ms            20  \n",
            "          aten::native_batch_norm         7.75%      75.738ms         7.79%      76.158ms       3.808ms            20  \n",
            "                      aten::relu_         0.58%       5.667ms         1.49%      14.559ms     856.412us            17  \n",
            "        aten::adaptive_avg_pool2d         0.03%     280.000us         1.49%      14.520ms      14.520ms             1  \n",
            "                       aten::mean         0.06%     610.000us         1.46%      14.240ms      14.240ms             1  \n",
            "                     aten::linear         0.36%       3.500ms         1.38%      13.447ms      13.447ms             1  \n",
            "                       aten::div_         0.71%       6.897ms         1.36%      13.312ms      13.312ms             1  \n",
            "---------------------------------  ------------  ------------  ------------  ------------  ------------  ------------  \n",
            "Self CPU time total: 977.665ms\n",
            "\n"
          ]
        }
      ],
      "source": [
        "print(prof.key_averages().table(sort_by=\"cpu_time_total\", row_limit=15))"
      ]
    },
    {
      "cell_type": "markdown",
      "metadata": {
        "id": "xFXP_zGuC64l"
      },
      "source": [
        "The output will look like (omitting some columns):\n"
      ]
    },
    {
      "cell_type": "code",
      "execution_count": null,
      "metadata": {
        "id": "0BVbp9WsC64l"
      },
      "outputs": [],
      "source": [
        "# ---------------------------------  ------------  ------------  ------------  ------------\n",
        "#                              Name      Self CPU     CPU total  CPU time avg    # of Calls\n",
        "# ---------------------------------  ------------  ------------  ------------  ------------\n",
        "#                   model_inference       5.509ms      57.503ms      57.503ms             1\n",
        "#                      aten::conv2d     231.000us      31.931ms       1.597ms            20\n",
        "#                 aten::convolution     250.000us      31.700ms       1.585ms            20\n",
        "#                aten::_convolution     336.000us      31.450ms       1.573ms            20\n",
        "#          aten::mkldnn_convolution      30.838ms      31.114ms       1.556ms            20\n",
        "#                  aten::batch_norm     211.000us      14.693ms     734.650us            20\n",
        "#      aten::_batch_norm_impl_index     319.000us      14.482ms     724.100us            20\n",
        "#           aten::native_batch_norm       9.229ms      14.109ms     705.450us            20\n",
        "#                        aten::mean     332.000us       2.631ms     125.286us            21\n",
        "#                      aten::select       1.668ms       2.292ms       8.988us           255\n",
        "# ---------------------------------  ------------  ------------  ------------  ------------\n",
        "# Self CPU time total: 57.549m\n",
        "#"
      ]
    },
    {
      "cell_type": "markdown",
      "metadata": {
        "id": "HbEJpGKjC64l"
      },
      "source": [
        "Here we see that, as expected, most of the time is spent in convolution\n",
        "(and specifically in `mkldnn_convolution` for PyTorch compiled with\n",
        "`MKL-DNN` support). Note the difference between self cpu time and cpu\n",
        "time - operators can call other operators, self cpu time excludes time\n",
        "spent in children operator calls, while total cpu time includes it. You\n",
        "can choose to sort by the self cpu time by passing\n",
        "`sort_by=\"self_cpu_time_total\"` into the `table` call.\n",
        "\n",
        "To get a finer granularity of results and include operator input shapes,\n",
        "pass `group_by_input_shape=True` (note: this requires running the\n",
        "profiler with `record_shapes=True`):\n"
      ]
    },
    {
      "cell_type": "code",
      "execution_count": null,
      "metadata": {
        "id": "nQnSFPmDC64m",
        "colab": {
          "base_uri": "https://localhost:8080/"
        },
        "outputId": "d9f3065d-f0cb-4278-f363-148d3109800a"
      },
      "outputs": [
        {
          "output_type": "stream",
          "name": "stdout",
          "text": [
            "---------------------------------  ------------  ------------  ------------  ------------  ------------  ------------  --------------------------------------------------------------------------------  \n",
            "                             Name    Self CPU %      Self CPU   CPU total %     CPU total  CPU time avg    # of Calls                                                                      Input Shapes  \n",
            "---------------------------------  ------------  ------------  ------------  ------------  ------------  ------------  --------------------------------------------------------------------------------  \n",
            "                  model_inference         3.03%      30.945ms       100.00%        1.022s        1.022s             1                                                                                []  \n",
            "                     aten::conv2d         0.00%      46.000us        26.51%     270.919ms      67.730ms             4                             [[5, 64, 56, 56], [64, 64, 3, 3], [], [], [], [], []]  \n",
            "                aten::convolution         0.01%     134.000us        26.50%     270.873ms      67.718ms             4                     [[5, 64, 56, 56], [64, 64, 3, 3], [], [], [], [], [], [], []]  \n",
            "               aten::_convolution         0.01%      88.000us        26.49%     270.739ms      67.685ms             4     [[5, 64, 56, 56], [64, 64, 3, 3], [], [], [], [], [], [], [], [], [], [], []]  \n",
            "         aten::mkldnn_convolution        26.46%     270.455ms        26.48%     270.651ms      67.663ms             4                             [[5, 64, 56, 56], [64, 64, 3, 3], [], [], [], [], []]  \n",
            "                     aten::conv2d         0.28%       2.826ms        15.34%     156.811ms     156.811ms             1                             [[5, 3, 224, 224], [64, 3, 7, 7], [], [], [], [], []]  \n",
            "                aten::convolution         0.28%       2.854ms        15.07%     153.985ms     153.985ms             1                     [[5, 3, 224, 224], [64, 3, 7, 7], [], [], [], [], [], [], []]  \n",
            "               aten::_convolution         0.03%     357.000us        14.79%     151.131ms     151.131ms             1     [[5, 3, 224, 224], [64, 3, 7, 7], [], [], [], [], [], [], [], [], [], [], []]  \n",
            "         aten::mkldnn_convolution        14.42%     147.363ms        14.75%     150.774ms     150.774ms             1                             [[5, 3, 224, 224], [64, 3, 7, 7], [], [], [], [], []]  \n",
            "                 aten::batch_norm         0.00%      16.000us        10.24%     104.648ms     104.648ms             1                       [[5, 64, 112, 112], [64], [64], [64], [64], [], [], [], []]  \n",
            "---------------------------------  ------------  ------------  ------------  ------------  ------------  ------------  --------------------------------------------------------------------------------  \n",
            "Self CPU time total: 1.022s\n",
            "\n"
          ]
        }
      ],
      "source": [
        "print(prof.key_averages(group_by_input_shape=True).table(sort_by=\"cpu_time_total\", row_limit=10))"
      ]
    },
    {
      "cell_type": "markdown",
      "metadata": {
        "id": "LfWFug6xC64m"
      },
      "source": [
        "The output might look like this (omitting some columns):\n",
        "\n",
        "``` {.sourceCode .sh}\n",
        "---------------------------------  ------------  -------------------------------------------\n",
        "                             Name     CPU total                                 Input Shapes\n",
        "---------------------------------  ------------  -------------------------------------------\n",
        "                  model_inference      57.503ms                                           []\n",
        "                     aten::conv2d       8.008ms      [5,64,56,56], [64,64,3,3], [], ..., []]\n",
        "                aten::convolution       7.956ms     [[5,64,56,56], [64,64,3,3], [], ..., []]\n",
        "               aten::_convolution       7.909ms     [[5,64,56,56], [64,64,3,3], [], ..., []]\n",
        "         aten::mkldnn_convolution       7.834ms     [[5,64,56,56], [64,64,3,3], [], ..., []]\n",
        "                     aten::conv2d       6.332ms    [[5,512,7,7], [512,512,3,3], [], ..., []]\n",
        "                aten::convolution       6.303ms    [[5,512,7,7], [512,512,3,3], [], ..., []]\n",
        "               aten::_convolution       6.273ms    [[5,512,7,7], [512,512,3,3], [], ..., []]\n",
        "         aten::mkldnn_convolution       6.233ms    [[5,512,7,7], [512,512,3,3], [], ..., []]\n",
        "                     aten::conv2d       4.751ms  [[5,256,14,14], [256,256,3,3], [], ..., []]\n",
        "---------------------------------  ------------  -------------------------------------------\n",
        "Self CPU time total: 57.549ms\n",
        "```\n"
      ]
    },
    {
      "cell_type": "markdown",
      "metadata": {
        "id": "eFpQRl-TC64m"
      },
      "source": [
        "Note the occurrence of `aten::convolution` twice with different input\n",
        "shapes.\n"
      ]
    },
    {
      "cell_type": "markdown",
      "metadata": {
        "id": "6xQ6kzGtC64m"
      },
      "source": [
        "Profiler can also be used to analyze performance of models executed on\n",
        "GPUs:\n"
      ]
    },
    {
      "cell_type": "code",
      "execution_count": null,
      "metadata": {
        "id": "JR-LITXvC64m",
        "colab": {
          "base_uri": "https://localhost:8080/"
        },
        "outputId": "ac7db193-a7eb-4b23-ae05-b7c4a7e80905"
      },
      "outputs": [
        {
          "output_type": "stream",
          "name": "stdout",
          "text": [
            "-------------------------------------------------------  ------------  ------------  ------------  ------------  ------------  ------------  ------------  ------------  ------------  ------------  \n",
            "                                                   Name    Self CPU %      Self CPU   CPU total %     CPU total  CPU time avg     Self CUDA   Self CUDA %    CUDA total  CUDA time avg    # of Calls  \n",
            "-------------------------------------------------------  ------------  ------------  ------------  ------------  ------------  ------------  ------------  ------------  ------------  ------------  \n",
            "                                        model_inference         0.32%       3.058ms       100.00%     957.925ms     957.925ms       0.000us         0.00%      10.930ms      10.930ms             1  \n",
            "                                           aten::conv2d         0.01%     118.000us        71.42%     684.149ms      34.207ms       0.000us         0.00%       9.178ms     458.900us            20  \n",
            "                                      aten::convolution         0.03%     318.000us        71.41%     684.031ms      34.202ms       0.000us         0.00%       9.178ms     458.900us            20  \n",
            "                                     aten::_convolution         0.31%       3.005ms        71.37%     683.713ms      34.186ms       0.000us         0.00%       9.178ms     458.900us            20  \n",
            "                                aten::cudnn_convolution        52.52%     503.152ms        71.06%     680.708ms      34.035ms       7.875ms        81.80%       9.178ms     458.900us            20  \n",
            "cudnn_infer_volta_scudnn_winograd_128x128_ldg1_ldg4_...         0.00%       0.000us         0.00%       0.000us       0.000us       5.580ms        57.96%       5.580ms     429.231us            13  \n",
            "                           aten::_batch_norm_impl_index         0.01%     133.000us         5.66%      54.236ms       2.712ms       0.000us         0.00%     994.000us      49.700us            20  \n",
            "                                 aten::cudnn_batch_norm         1.39%      13.317ms         5.65%      54.103ms       2.705ms     994.000us        10.33%     994.000us      49.700us            20  \n",
            "                                       aten::batch_norm         0.03%     302.000us         5.67%      54.300ms       2.715ms       0.000us         0.00%     962.000us      48.100us            20  \n",
            "                                 cudaDeviceGetAttribute         0.02%     146.000us         0.02%     146.000us       3.650us     767.000us         7.97%     767.000us      19.175us            40  \n",
            "-------------------------------------------------------  ------------  ------------  ------------  ------------  ------------  ------------  ------------  ------------  ------------  ------------  \n",
            "Self CPU time total: 957.940ms\n",
            "Self CUDA time total: 9.627ms\n",
            "\n"
          ]
        }
      ],
      "source": [
        "model = models.resnet18().cuda()\n",
        "inputs = torch.randn(5, 3, 224, 224).cuda()\n",
        "\n",
        "with profile(activities=[\n",
        "        ProfilerActivity.CPU, ProfilerActivity.CUDA], record_shapes=True) as prof:\n",
        "    with record_function(\"model_inference\"):\n",
        "        model(inputs)\n",
        "\n",
        "print(prof.key_averages().table(sort_by=\"cuda_time_total\", row_limit=10))"
      ]
    },
    {
      "cell_type": "markdown",
      "metadata": {
        "id": "ECLPCYDPC64m"
      },
      "source": [
        "(Note: the first use of CUDA profiling may bring an extra overhead.)\n"
      ]
    },
    {
      "cell_type": "markdown",
      "metadata": {
        "id": "HR-E2vsLC64m"
      },
      "source": [
        "The resulting table output (omitting some columns):\n",
        "\n",
        "``` {.sourceCode .sh}\n",
        "-------------------------------------------------------  ------------  ------------\n",
        "                                                   Name     Self CUDA    CUDA total\n",
        "-------------------------------------------------------  ------------  ------------\n",
        "                                        model_inference       0.000us      11.666ms\n",
        "                                           aten::conv2d       0.000us      10.484ms\n",
        "                                      aten::convolution       0.000us      10.484ms\n",
        "                                     aten::_convolution       0.000us      10.484ms\n",
        "                             aten::_convolution_nogroup       0.000us      10.484ms\n",
        "                                      aten::thnn_conv2d       0.000us      10.484ms\n",
        "                              aten::thnn_conv2d_forward      10.484ms      10.484ms\n",
        "void at::native::im2col_kernel<float>(long, float co...       3.844ms       3.844ms\n",
        "                                      sgemm_32x32x32_NN       3.206ms       3.206ms\n",
        "                                  sgemm_32x32x32_NN_vec       3.093ms       3.093ms\n",
        "-------------------------------------------------------  ------------  ------------\n",
        "Self CPU time total: 23.015ms\n",
        "Self CUDA time total: 11.666ms\n",
        "```\n"
      ]
    },
    {
      "cell_type": "markdown",
      "metadata": {
        "id": "lLkmv0JPC64m"
      },
      "source": [
        "Note the occurrence of on-device kernels in the output (e.g.\n",
        "`sgemm_32x32x32_NN`).\n"
      ]
    },
    {
      "cell_type": "markdown",
      "metadata": {
        "id": "SIomAGViC64n"
      },
      "source": [
        "4. Using profiler to analyze memory consumption\n",
        "===============================================\n",
        "\n",
        "PyTorch profiler can also show the amount of memory (used by the\n",
        "model\\'s tensors) that was allocated (or released) during the execution\n",
        "of the model\\'s operators. In the output below, \\'self\\' memory\n",
        "corresponds to the memory allocated (released) by the operator,\n",
        "excluding the children calls to the other operators. To enable memory\n",
        "profiling functionality pass `profile_memory=True`.\n"
      ]
    },
    {
      "cell_type": "code",
      "execution_count": null,
      "metadata": {
        "id": "tjamaAAPC64n",
        "colab": {
          "base_uri": "https://localhost:8080/"
        },
        "outputId": "1825d1a5-8811-4851-8791-13deb245345e"
      },
      "outputs": [
        {
          "output_type": "stream",
          "name": "stdout",
          "text": [
            "---------------------------------  ------------  ------------  ------------  ------------  ------------  ------------  ------------  ------------  \n",
            "                             Name    Self CPU %      Self CPU   CPU total %     CPU total  CPU time avg       CPU Mem  Self CPU Mem    # of Calls  \n",
            "---------------------------------  ------------  ------------  ------------  ------------  ------------  ------------  ------------  ------------  \n",
            "                      aten::empty         0.16%     458.000us         0.16%     458.000us       2.290us      94.85 Mb      94.85 Mb           200  \n",
            "    aten::max_pool2d_with_indices        16.23%      46.862ms        16.23%      46.862ms      46.862ms      11.48 Mb      11.48 Mb             1  \n",
            "                      aten::addmm         0.14%     401.000us         0.14%     414.000us     414.000us      19.53 Kb      19.53 Kb             1  \n",
            "                       aten::mean         0.01%      25.000us         0.05%     144.000us     144.000us      10.00 Kb       9.99 Kb             1  \n",
            "                       aten::div_         0.01%      19.000us         0.02%      69.000us      69.000us           8 b           4 b             1  \n",
            "              aten::empty_strided         0.00%       4.000us         0.00%       4.000us       4.000us           4 b           4 b             1  \n",
            "                     aten::conv2d         0.05%     139.000us        66.60%     192.267ms       9.613ms      47.37 Mb           0 b            20  \n",
            "                aten::convolution         0.13%     382.000us        66.55%     192.128ms       9.606ms      47.37 Mb           0 b            20  \n",
            "               aten::_convolution         0.08%     239.000us        66.42%     191.746ms       9.587ms      47.37 Mb           0 b            20  \n",
            "         aten::mkldnn_convolution        66.21%     191.138ms        66.34%     191.507ms       9.575ms      47.37 Mb           0 b            20  \n",
            "---------------------------------  ------------  ------------  ------------  ------------  ------------  ------------  ------------  ------------  \n",
            "Self CPU time total: 288.692ms\n",
            "\n",
            "---------------------------------  ------------  ------------  ------------  ------------  ------------  ------------  ------------  ------------  \n",
            "                             Name    Self CPU %      Self CPU   CPU total %     CPU total  CPU time avg       CPU Mem  Self CPU Mem    # of Calls  \n",
            "---------------------------------  ------------  ------------  ------------  ------------  ------------  ------------  ------------  ------------  \n",
            "                      aten::empty         0.16%     458.000us         0.16%     458.000us       2.290us      94.85 Mb      94.85 Mb           200  \n",
            "                 aten::batch_norm         0.03%      83.000us        15.13%      43.679ms       2.184ms      47.41 Mb           0 b            20  \n",
            "     aten::_batch_norm_impl_index         0.07%     190.000us        15.10%      43.596ms       2.180ms      47.41 Mb           0 b            20  \n",
            "          aten::native_batch_norm        14.94%      43.118ms        15.03%      43.379ms       2.169ms      47.41 Mb     -66.25 Kb            20  \n",
            "                     aten::conv2d         0.05%     139.000us        66.60%     192.267ms       9.613ms      47.37 Mb           0 b            20  \n",
            "                aten::convolution         0.13%     382.000us        66.55%     192.128ms       9.606ms      47.37 Mb           0 b            20  \n",
            "               aten::_convolution         0.08%     239.000us        66.42%     191.746ms       9.587ms      47.37 Mb           0 b            20  \n",
            "         aten::mkldnn_convolution        66.21%     191.138ms        66.34%     191.507ms       9.575ms      47.37 Mb           0 b            20  \n",
            "                 aten::empty_like         0.02%      69.000us         0.04%     122.000us       6.100us      47.37 Mb           0 b            20  \n",
            "                 aten::max_pool2d         0.01%      17.000us        16.24%      46.879ms      46.879ms      11.48 Mb           0 b             1  \n",
            "---------------------------------  ------------  ------------  ------------  ------------  ------------  ------------  ------------  ------------  \n",
            "Self CPU time total: 288.692ms\n",
            "\n"
          ]
        }
      ],
      "source": [
        "model = models.resnet18()\n",
        "inputs = torch.randn(5, 3, 224, 224)\n",
        "\n",
        "with profile(activities=[ProfilerActivity.CPU],\n",
        "        profile_memory=True, record_shapes=True) as prof:\n",
        "    model(inputs)\n",
        "\n",
        "print(prof.key_averages().table(sort_by=\"self_cpu_memory_usage\", row_limit=10))\n",
        "\n",
        "# (omitting some columns)\n",
        "# ---------------------------------  ------------  ------------  ------------\n",
        "#                              Name       CPU Mem  Self CPU Mem    # of Calls\n",
        "# ---------------------------------  ------------  ------------  ------------\n",
        "#                       aten::empty      94.79 Mb      94.79 Mb           121\n",
        "#     aten::max_pool2d_with_indices      11.48 Mb      11.48 Mb             1\n",
        "#                       aten::addmm      19.53 Kb      19.53 Kb             1\n",
        "#               aten::empty_strided         572 b         572 b            25\n",
        "#                     aten::resize_         240 b         240 b             6\n",
        "#                         aten::abs         480 b         240 b             4\n",
        "#                         aten::add         160 b         160 b            20\n",
        "#               aten::masked_select         120 b         112 b             1\n",
        "#                          aten::ne         122 b          53 b             6\n",
        "#                          aten::eq          60 b          30 b             2\n",
        "# ---------------------------------  ------------  ------------  ------------\n",
        "# Self CPU time total: 53.064ms\n",
        "\n",
        "print(prof.key_averages().table(sort_by=\"cpu_memory_usage\", row_limit=10))"
      ]
    },
    {
      "cell_type": "markdown",
      "metadata": {
        "id": "91Q7Idj4C64n"
      },
      "source": [
        "The output might look like this (omitting some columns):\n",
        "\n",
        "``` {.sourceCode .sh}\n",
        "---------------------------------  ------------  ------------  ------------\n",
        "                             Name       CPU Mem  Self CPU Mem    # of Calls\n",
        "---------------------------------  ------------  ------------  ------------\n",
        "                      aten::empty      94.79 Mb      94.79 Mb           121\n",
        "                 aten::batch_norm      47.41 Mb           0 b            20\n",
        "     aten::_batch_norm_impl_index      47.41 Mb           0 b            20\n",
        "          aten::native_batch_norm      47.41 Mb           0 b            20\n",
        "                     aten::conv2d      47.37 Mb           0 b            20\n",
        "                aten::convolution      47.37 Mb           0 b            20\n",
        "               aten::_convolution      47.37 Mb           0 b            20\n",
        "         aten::mkldnn_convolution      47.37 Mb           0 b            20\n",
        "                 aten::max_pool2d      11.48 Mb           0 b             1\n",
        "    aten::max_pool2d_with_indices      11.48 Mb      11.48 Mb             1\n",
        "---------------------------------  ------------  ------------  ------------\n",
        "Self CPU time total: 53.064ms\n",
        "```\n"
      ]
    },
    {
      "cell_type": "markdown",
      "metadata": {
        "id": "m99VKyC5C64n"
      },
      "source": [
        "5. Using tracing functionality\n",
        "==============================\n",
        "\n",
        "Profiling results can be outputted as a `.json` trace file:\n"
      ]
    },
    {
      "cell_type": "code",
      "source": [
        "from google.colab import drive\n",
        "drive.mount('/gdrive7')"
      ],
      "metadata": {
        "colab": {
          "base_uri": "https://localhost:8080/"
        },
        "id": "xUVOpKztI3E0",
        "outputId": "e1ddf96b-974d-4eb5-adf4-fea73f50f330"
      },
      "execution_count": null,
      "outputs": [
        {
          "output_type": "stream",
          "name": "stdout",
          "text": [
            "Mounted at /gdrive7\n"
          ]
        }
      ]
    },
    {
      "cell_type": "code",
      "source": [
        "cd /gdrive7/My Drive/Colab Notebooks/"
      ],
      "metadata": {
        "colab": {
          "base_uri": "https://localhost:8080/"
        },
        "id": "3NSZc7f7I3vn",
        "outputId": "3e9073cd-dedf-4ed7-c9d3-89b280e7e310"
      },
      "execution_count": null,
      "outputs": [
        {
          "output_type": "stream",
          "name": "stdout",
          "text": [
            "/gdrive7/My Drive/Colab Notebooks\n"
          ]
        }
      ]
    },
    {
      "cell_type": "code",
      "execution_count": null,
      "metadata": {
        "id": "bzltHX6JC64n"
      },
      "outputs": [],
      "source": [
        "model = models.resnet18().cuda()\n",
        "inputs = torch.randn(5, 3, 224, 224).cuda()\n",
        "\n",
        "with profile(activities=[ProfilerActivity.CPU, ProfilerActivity.CUDA]) as prof:\n",
        "    model(inputs)\n",
        "\n",
        "prof.export_chrome_trace(\"trace.json\")"
      ]
    },
    {
      "cell_type": "markdown",
      "metadata": {
        "id": "AT__9QjeC64n"
      },
      "source": [
        "You can examine the sequence of profiled operators and CUDA kernels in\n",
        "Chrome trace viewer (`chrome://tracing`):\n",
        "\n",
        "![image](https://pytorch.org/tutorials/_static/img/trace_img.png)\n"
      ]
    },
    {
      "cell_type": "markdown",
      "metadata": {
        "id": "oX7E4hx9C64n"
      },
      "source": [
        "6. Examining stack traces\n",
        "=========================\n",
        "\n",
        "Profiler can be used to analyze Python and TorchScript stack traces:\n"
      ]
    },
    {
      "cell_type": "code",
      "execution_count": null,
      "metadata": {
        "id": "_VyzSaipC64o",
        "colab": {
          "base_uri": "https://localhost:8080/"
        },
        "outputId": "e4cfecb2-6512-4d8d-ede5-61e4267765ca"
      },
      "outputs": [
        {
          "output_type": "stream",
          "name": "stdout",
          "text": [
            "-------------------------------------------------------  ------------  ------------  ------------  ------------  ------------  ------------  ------------  ------------  ------------  ------------  \n",
            "                                                   Name    Self CPU %      Self CPU   CPU total %     CPU total  CPU time avg     Self CUDA   Self CUDA %    CUDA total  CUDA time avg    # of Calls  \n",
            "-------------------------------------------------------  ------------  ------------  ------------  ------------  ------------  ------------  ------------  ------------  ------------  ------------  \n",
            "                                aten::cudnn_convolution        11.07%       2.352ms        44.17%       9.383ms     469.150us       7.863ms        81.61%       7.863ms     393.150us            20  \n",
            "cudnn_infer_volta_scudnn_winograd_128x128_ldg1_ldg4_...         0.00%       0.000us         0.00%       0.000us       0.000us       5.570ms        57.81%       5.570ms     428.462us            13  \n",
            "-------------------------------------------------------  ------------  ------------  ------------  ------------  ------------  ------------  ------------  ------------  ------------  ------------  \n",
            "Self CPU time total: 21.243ms\n",
            "Self CUDA time total: 9.635ms\n",
            "\n"
          ]
        }
      ],
      "source": [
        "with profile(\n",
        "    activities=[ProfilerActivity.CPU, ProfilerActivity.CUDA],\n",
        "    with_stack=True,\n",
        ") as prof:\n",
        "    model(inputs)\n",
        "\n",
        "# Print aggregated stats\n",
        "print(prof.key_averages(group_by_stack_n=5).table(sort_by=\"self_cuda_time_total\", row_limit=2))"
      ]
    },
    {
      "cell_type": "markdown",
      "metadata": {
        "id": "dYLpxT2VC64o"
      },
      "source": [
        "The output might look like this (omitting some columns):\n",
        "\n",
        "``` {.sourceCode .sh}\n",
        "-------------------------  -----------------------------------------------------------\n",
        "                     Name  Source Location\n",
        "-------------------------  -----------------------------------------------------------\n",
        "aten::thnn_conv2d_forward  .../torch/nn/modules/conv.py(439): _conv_forward\n",
        "                           .../torch/nn/modules/conv.py(443): forward\n",
        "                           .../torch/nn/modules/module.py(1051): _call_impl\n",
        "                           .../site-packages/torchvision/models/resnet.py(63): forward\n",
        "                           .../torch/nn/modules/module.py(1051): _call_impl\n",
        "aten::thnn_conv2d_forward  .../torch/nn/modules/conv.py(439): _conv_forward\n",
        "                           .../torch/nn/modules/conv.py(443): forward\n",
        "                           .../torch/nn/modules/module.py(1051): _call_impl\n",
        "                           .../site-packages/torchvision/models/resnet.py(59): forward\n",
        "                           .../torch/nn/modules/module.py(1051): _call_impl\n",
        "-------------------------  -----------------------------------------------------------\n",
        "Self CPU time total: 34.016ms\n",
        "Self CUDA time total: 11.659ms\n",
        "```\n"
      ]
    },
    {
      "cell_type": "markdown",
      "metadata": {
        "id": "LRjqfsGEC64o"
      },
      "source": [
        "Note the two convolutions and the two call sites in\n",
        "`torchvision/models/resnet.py` script.\n",
        "\n",
        "(Warning: stack tracing adds an extra profiling overhead.)\n"
      ]
    },
    {
      "cell_type": "markdown",
      "metadata": {
        "id": "9zTwVGnFC64o"
      },
      "source": [
        "7. Visualizing data as a flame graph\n",
        "====================================\n",
        "\n",
        "Execution time (`self_cpu_time_total` and `self_cuda_time_total`\n",
        "metrics) and stack traces can also be visualized as a flame graph. To do\n",
        "this, first export the raw data using `export_stacks` (requires\n",
        "`with_stack=True`):\n"
      ]
    },
    {
      "cell_type": "code",
      "execution_count": null,
      "metadata": {
        "id": "-FYAHigfC64o"
      },
      "outputs": [],
      "source": [
        "prof.export_stacks(\"profiler_stacks.txt\", \"self_cuda_time_total\")"
      ]
    },
    {
      "cell_type": "markdown",
      "metadata": {
        "id": "5fyMs_1dC64o"
      },
      "source": [
        "We recommend using [Flamegraph\n",
        "tool](https://github.com/brendangregg/FlameGraph) to generate an\n",
        "interactive `.svg` file:\n",
        "\n",
        "``` {.sourceCode .sh}\n",
        "git clone https://github.com/brendangregg/FlameGraph\n",
        "cd FlameGraph\n",
        "./flamegraph.pl --title \"CUDA time\" --countname \"us.\" profiler_stacks.txt > perf_viz.svg\n",
        "```\n"
      ]
    },
    {
      "cell_type": "markdown",
      "metadata": {
        "id": "1PBgyxSjC64o"
      },
      "source": [
        "![image](https://pytorch.org/tutorials/_static/img/perf_viz.png)\n"
      ]
    },
    {
      "cell_type": "markdown",
      "metadata": {
        "id": "gAZvDLHWC64o"
      },
      "source": [
        "8. Using profiler to analyze long-running jobs\n",
        "==============================================\n",
        "\n",
        "PyTorch profiler offers an additional API to handle long-running jobs\n",
        "(such as training loops). Tracing all of the execution can be slow and\n",
        "result in very large trace files. To avoid this, use optional arguments:\n",
        "\n",
        "-   `schedule` - specifies a function that takes an integer argument\n",
        "    (step number) as an input and returns an action for the profiler,\n",
        "    the best way to use this parameter is to use\n",
        "    `torch.profiler.schedule` helper function that can generate a\n",
        "    schedule for you;\n",
        "-   `on_trace_ready` - specifies a function that takes a reference to\n",
        "    the profiler as an input and is called by the profiler each time the\n",
        "    new trace is ready.\n",
        "\n",
        "To illustrate how the API works, let\\'s first consider the following\n",
        "example with `torch.profiler.schedule` helper function:\n"
      ]
    },
    {
      "cell_type": "code",
      "execution_count": null,
      "metadata": {
        "id": "TfON5UD_C64o"
      },
      "outputs": [],
      "source": [
        "from torch.profiler import schedule\n",
        "\n",
        "my_schedule = schedule(\n",
        "    skip_first=10,\n",
        "    wait=5,\n",
        "    warmup=1,\n",
        "    active=3,\n",
        "    repeat=2)"
      ]
    },
    {
      "cell_type": "markdown",
      "metadata": {
        "id": "fo5GT_9PC64p"
      },
      "source": [
        "Profiler assumes that the long-running job is composed of steps,\n",
        "numbered starting from zero. The example above defines the following\n",
        "sequence of actions for the profiler:\n",
        "\n",
        "1.  Parameter `skip_first` tells profiler that it should ignore the\n",
        "    first 10 steps (default value of `skip_first` is zero);\n",
        "2.  After the first `skip_first` steps, profiler starts executing\n",
        "    profiler cycles;\n",
        "3.  Each cycle consists of three phases:\n",
        "    -   idling (`wait=5` steps), during this phase profiler is not\n",
        "        active;\n",
        "    -   warming up (`warmup=1` steps), during this phase profiler starts\n",
        "        tracing, but the results are discarded; this phase is used to\n",
        "        discard the samples obtained by the profiler at the beginning of\n",
        "        the trace since they are usually skewed by an extra overhead;\n",
        "    -   active tracing (`active=3` steps), during this phase profiler\n",
        "        traces and records data;\n",
        "4.  An optional `repeat` parameter specifies an upper bound on the\n",
        "    number of cycles. By default (zero value), profiler will execute\n",
        "    cycles as long as the job runs.\n"
      ]
    },
    {
      "cell_type": "markdown",
      "metadata": {
        "id": "HLEKXkdBC64s"
      },
      "source": [
        "Thus, in the example above, profiler will skip the first 15 steps, spend\n",
        "the next step on the warm up, actively record the next 3 steps, skip\n",
        "another 5 steps, spend the next step on the warm up, actively record\n",
        "another 3 steps. Since the `repeat=2` parameter value is specified, the\n",
        "profiler will stop the recording after the first two cycles.\n",
        "\n",
        "At the end of each cycle profiler calls the specified `on_trace_ready`\n",
        "function and passes itself as an argument. This function is used to\n",
        "process the new trace - either by obtaining the table output or by\n",
        "saving the output on disk as a trace file.\n",
        "\n",
        "To send the signal to the profiler that the next step has started, call\n",
        "`prof.step()` function. The current profiler step is stored in\n",
        "`prof.step_num`.\n",
        "\n",
        "The following example shows how to use all of the concepts above:\n"
      ]
    },
    {
      "cell_type": "code",
      "execution_count": null,
      "metadata": {
        "id": "PNbZaQ6MC64s",
        "colab": {
          "base_uri": "https://localhost:8080/"
        },
        "outputId": "cf496423-79ab-4edf-e141-d7008500c6aa"
      },
      "outputs": [
        {
          "output_type": "stream",
          "name": "stdout",
          "text": [
            "-------------------------------------------------------  ------------  ------------  ------------  ------------  ------------  ------------  ------------  ------------  ------------  ------------  \n",
            "                                                   Name    Self CPU %      Self CPU   CPU total %     CPU total  CPU time avg     Self CUDA   Self CUDA %    CUDA total  CUDA time avg    # of Calls  \n",
            "-------------------------------------------------------  ------------  ------------  ------------  ------------  ------------  ------------  ------------  ------------  ------------  ------------  \n",
            "                                aten::cudnn_convolution         7.48%       1.766ms        10.45%       2.467ms      61.675us      15.726ms        67.53%      15.726ms     393.150us            40  \n",
            "cudnn_infer_volta_scudnn_winograd_128x128_ldg1_ldg4_...         0.00%       0.000us         0.00%       0.000us       0.000us      13.796ms        59.24%      13.796ms     445.032us            31  \n",
            "                                 aten::cudnn_batch_norm         6.82%       1.609ms        13.59%       3.208ms      80.200us       2.003ms         8.60%       2.003ms      50.075us            40  \n",
            "cudnn_infer_volta_scudnn_128x32_sliced1x4_ldg4_relu_...         0.00%       0.000us         0.00%       0.000us       0.000us       1.673ms         7.18%       1.673ms     209.125us             8  \n",
            "void cudnn::winograd::generateWinogradTilesKernel<0,...         0.00%       0.000us         0.00%       0.000us       0.000us       1.518ms         6.52%       1.518ms      48.968us            31  \n",
            "void cudnn::bn_fw_tr_1C11_singleread<float, 512, tru...         0.00%       0.000us         0.00%       0.000us       0.000us       1.403ms         6.02%       1.403ms      36.921us            38  \n",
            "      cudnn_infer_volta_scudnn_128x64_relu_medium_nn_v1         0.00%       0.000us         0.00%       0.000us       0.000us       1.161ms         4.99%       1.161ms     290.250us             4  \n",
            "      cudnn_infer_volta_scudnn_128x128_relu_small_nn_v1         0.00%       0.000us         0.00%       0.000us       0.000us     659.000us         2.83%     659.000us     164.750us             4  \n",
            "void at::native::vectorized_elementwise_kernel<4, at...         0.00%       0.000us         0.00%       0.000us       0.000us     658.000us         2.83%     658.000us      16.049us            41  \n",
            "                                       aten::clamp_min_         1.42%     335.000us         2.41%     569.000us      16.735us     624.000us         2.68%     624.000us      18.353us            34  \n",
            "-------------------------------------------------------  ------------  ------------  ------------  ------------  ------------  ------------  ------------  ------------  ------------  ------------  \n",
            "Self CPU time total: 23.601ms\n",
            "Self CUDA time total: 23.287ms\n",
            "\n",
            "-------------------------------------------------------  ------------  ------------  ------------  ------------  ------------  ------------  ------------  ------------  ------------  ------------  \n",
            "                                                   Name    Self CPU %      Self CPU   CPU total %     CPU total  CPU time avg     Self CUDA   Self CUDA %    CUDA total  CUDA time avg    # of Calls  \n",
            "-------------------------------------------------------  ------------  ------------  ------------  ------------  ------------  ------------  ------------  ------------  ------------  ------------  \n",
            "                                aten::cudnn_convolution         7.16%       1.850ms        10.01%       2.584ms      64.600us      15.723ms        62.46%      15.723ms     393.075us            40  \n",
            "cudnn_infer_volta_scudnn_winograd_128x128_ldg1_ldg4_...         0.00%       0.000us         0.00%       0.000us       0.000us      14.871ms        59.08%      14.871ms     437.382us            34  \n",
            "                                 aten::cudnn_batch_norm         6.49%       1.675ms        13.46%       3.475ms      86.875us       2.009ms         7.98%       2.009ms      50.225us            40  \n",
            "cudnn_infer_volta_scudnn_128x32_sliced1x4_ldg4_relu_...         0.00%       0.000us         0.00%       0.000us       0.000us       1.988ms         7.90%       1.988ms     220.889us             9  \n",
            "void cudnn::bn_fw_tr_1C11_singleread<float, 512, tru...         0.00%       0.000us         0.00%       0.000us       0.000us       1.583ms         6.29%       1.583ms      35.977us            44  \n",
            "void cudnn::winograd::generateWinogradTilesKernel<0,...         0.00%       0.000us         0.00%       0.000us       0.000us       1.570ms         6.24%       1.570ms      46.176us            34  \n",
            "      cudnn_infer_volta_scudnn_128x64_relu_medium_nn_v1         0.00%       0.000us         0.00%       0.000us       0.000us       1.216ms         4.83%       1.216ms     243.200us             5  \n",
            "      cudnn_infer_volta_scudnn_128x128_relu_small_nn_v1         0.00%       0.000us         0.00%       0.000us       0.000us     711.000us         2.82%     711.000us     142.200us             5  \n",
            "void at::native::vectorized_elementwise_kernel<4, at...         0.00%       0.000us         0.00%       0.000us       0.000us     693.000us         2.75%     693.000us      15.400us            45  \n",
            "                                       aten::clamp_min_         1.39%     359.000us         2.43%     628.000us      18.471us     624.000us         2.48%     624.000us      18.353us            34  \n",
            "-------------------------------------------------------  ------------  ------------  ------------  ------------  ------------  ------------  ------------  ------------  ------------  ------------  \n",
            "Self CPU time total: 25.820ms\n",
            "Self CUDA time total: 25.171ms\n",
            "\n"
          ]
        }
      ],
      "source": [
        "def trace_handler(p):\n",
        "    output = p.key_averages().table(sort_by=\"self_cuda_time_total\", row_limit=10)\n",
        "    print(output)\n",
        "    p.export_chrome_trace(str(p.step_num) + \".json\")\n",
        "\n",
        "with profile(\n",
        "    activities=[ProfilerActivity.CPU, ProfilerActivity.CUDA],\n",
        "    schedule=torch.profiler.schedule(\n",
        "        wait=1,\n",
        "        warmup=1,\n",
        "        active=2),\n",
        "    on_trace_ready=trace_handler\n",
        ") as p:\n",
        "    for idx in range(8):\n",
        "        model(inputs)\n",
        "        p.step()"
      ]
    },
    {
      "cell_type": "markdown",
      "metadata": {
        "id": "X7GuuxFaC64t"
      },
      "source": [
        "https://pytorch.org/tutorials/recipes/recipes/profiler_recipe.html\n",
        "Learn More\n",
        "==========\n",
        "\n",
        "Take a look at the following recipes/tutorials to continue your\n",
        "learning:\n",
        "\n",
        "-   [PyTorch\n",
        "    Benchmark](https://pytorch.org/tutorials/recipes/recipes/benchmark.html)\n",
        "-   [PyTorch Profiler with\n",
        "    TensorBoard](https://pytorch.org/tutorials/intermediate/tensorboard_profiler_tutorial.html)\n",
        "    tutorial\n",
        "-   [Visualizing models, data, and training with\n",
        "    TensorBoard](https://pytorch.org/tutorials/intermediate/tensorboard_tutorial.html)\n",
        "    tutorial\n"
      ]
    }
  ],
  "metadata": {
    "kernelspec": {
      "display_name": "Python 3",
      "name": "python3"
    },
    "language_info": {
      "codemirror_mode": {
        "name": "ipython",
        "version": 3
      },
      "file_extension": ".py",
      "mimetype": "text/x-python",
      "name": "python",
      "nbconvert_exporter": "python",
      "pygments_lexer": "ipython3",
      "version": "3.10.14"
    },
    "colab": {
      "provenance": [],
      "gpuType": "T4",
      "include_colab_link": true
    },
    "accelerator": "GPU"
  },
  "nbformat": 4,
  "nbformat_minor": 0
}